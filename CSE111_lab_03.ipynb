{
  "nbformat": 4,
  "nbformat_minor": 0,
  "metadata": {
    "colab": {
      "provenance": []
    },
    "kernelspec": {
      "name": "python3",
      "display_name": "Python 3"
    },
    "language_info": {
      "name": "python"
    }
  },
  "cells": [
    {
      "cell_type": "code",
      "execution_count": null,
      "metadata": {
        "colab": {
          "base_uri": "https://localhost:8080/"
        },
        "id": "y-wBM089WoWP",
        "outputId": "e9086347-9d2d-4ea0-b8b7-aa4e1bdce255"
      },
      "outputs": [
        {
          "output_type": "stream",
          "name": "stdout",
          "text": [
            "=====================================\n",
            "User Name: Bilbo\n",
            "Balance: 1.0\n",
            "Account Type: Savings\n",
            "=====================================\n",
            "User Name: Frodo\n",
            "Balance: 1.0\n",
            "Account Type: Business\n",
            "=====================================\n",
            "New account balance of Bilbo is 15.75\n",
            "New account balance of Frodo is 700.5\n"
          ]
        }
      ],
      "source": [
        "#task-1\n",
        "class BankAccount():\n",
        "  def __init__(self,n,ty,b=1.0):\n",
        "    self.user_name=n\n",
        "    self.balance=b\n",
        "    self.account_type=ty\n",
        "\n",
        "account1 = BankAccount(\"Bilbo\", \"Savings\")\n",
        "print(\"=====================================\")\n",
        "print(f\"User Name: {account1.user_name}\")\n",
        "print(f\"Balance: {account1.balance}\")\n",
        "print(f\"Account Type:\", account1.account_type)\n",
        "print(\"=====================================\")\n",
        "account2 = BankAccount(\"Frodo\", \"Business\")\n",
        "print(f\"User Name: {account2.user_name}\")\n",
        "print(f\"Balance: {account2.balance}\")\n",
        "print(f\"Account Type: {account2.account_type}\")\n",
        "print(\"=====================================\")\n",
        "account1.balance=15.75\n",
        "account2.balance=700.50\n",
        "print(f'New account balance of Bilbo is {account1.balance}')\n",
        "print(f'New account balance of Frodo is {account2.balance}')"
      ]
    },
    {
      "cell_type": "code",
      "source": [
        "#task-2\n",
        "class MangoTree():\n",
        "  def __init__(self,v,):\n",
        "    self.variety=v\n",
        "    self.height=1\n",
        "    self.number_of_mangoes=0\n",
        "  def updateOutput(self,y):\n",
        "    self.height=y*3\n",
        "    if self.variety=='Amrapali':\n",
        "      self.number_of_mangoes=self.height*15\n",
        "    else :\n",
        "      self.number_of_mangoes=self.height*10\n",
        "# Driver code\n",
        "mangoTree1= MangoTree(\"Gopalbhog\")\n",
        "# Display the details of the mango tree\n",
        "print(\"=====================================\")\n",
        "print(\"Mango Tree Details:\")\n",
        "print(f\"Variety: {mangoTree1.variety}\")\n",
        "print(f\"Height: {mangoTree1.height} meter(s)\")\n",
        "print(f\"Number of mangoes on the tree: {mangoTree1.number_of_mangoes}\")\n",
        "print(\"=====================================\")\n",
        "mangoTree2= MangoTree(\"Amrapali\")\n",
        "# Display the details of the mango tree\n",
        "print(\"Mango Tree Details:\")\n",
        "print(f\"Variety: {mangoTree2.variety}\")\n",
        "print(f\"Height: {mangoTree2.height} meter(s)\")\n",
        "print(f\"Number of mangoes on the tree: {mangoTree2.number_of_mangoes}\")\n",
        "print(\"=====================================\")\n"
      ],
      "metadata": {
        "colab": {
          "base_uri": "https://localhost:8080/"
        },
        "id": "cz1mYPOVbUtu",
        "outputId": "a6086fc7-29e7-4dc5-d2a7-09c271049a5c"
      },
      "execution_count": null,
      "outputs": [
        {
          "output_type": "stream",
          "name": "stdout",
          "text": [
            "=====================================\n",
            "Mango Tree Details:\n",
            "Variety: Gopalbhog\n",
            "Height: 1 meter(s)\n",
            "Number of mangoes on the tree: 0\n",
            "=====================================\n",
            "Mango Tree Details:\n",
            "Variety: Amrapali\n",
            "Height: 1 meter(s)\n",
            "Number of mangoes on the tree: 0\n",
            "=====================================\n"
          ]
        }
      ]
    },
    {
      "cell_type": "code",
      "source": [
        "#task-3\n",
        "class Contacts():\n",
        "  def __init__(self,na,num):\n",
        "    d={}\n",
        "    if len(na)!=len(num):\n",
        "      print('Contacts cannot be saved. Length Mismatch!')\n",
        "    else:\n",
        "      print('Contacts saved successfully.')\n",
        "      for i in range(len(na)):\n",
        "        d[na[i]]=num[i]\n",
        "    self.contactDict=d\n",
        "# Driver code\n",
        "names = [\"Emergency\", \"Father\", \"Bestie\"]\n",
        "numbers = [\"999\", \"01xx23\", \"01xx87\", \"01xx65\", \"01xx43\"]\n",
        "\n",
        "m1 = Contacts(names, numbers)\n",
        "print(\"Saved Contacts:\", m1.contactDict)\n",
        "print(\"---------------------------------------------\")\n",
        "\n",
        "names.append(\"Mother\")\n",
        "numbers.pop()\n",
        "\n",
        "m2 = Contacts(names, numbers)\n",
        "print(\"Saved Contacts:\", m2.contactDict)\n"
      ],
      "metadata": {
        "colab": {
          "base_uri": "https://localhost:8080/"
        },
        "id": "_pWS8Ov7jSbz",
        "outputId": "d3b38f3c-ff3b-40cd-942c-1816a103317d"
      },
      "execution_count": null,
      "outputs": [
        {
          "output_type": "stream",
          "name": "stdout",
          "text": [
            "Contacts cannot be saved. Length Mismatch!\n",
            "Saved Contacts: {}\n",
            "---------------------------------------------\n",
            "Contacts saved successfully.\n",
            "Saved Contacts: {'Emergency': '999', 'Father': '01xx23', 'Bestie': '01xx87', 'Mother': '01xx65'}\n"
          ]
        }
      ]
    },
    {
      "cell_type": "code",
      "source": [
        "#task-4\n",
        "class Student():\n",
        "  def __init__(self,n,cg,co):\n",
        "    self.name=n\n",
        "    self.cgpa=cg\n",
        "    self.courses_taken=co\n",
        "    if (self.cgpa<2.00) and not(1<=self.courses_taken<=2):\n",
        "      self.student_status='Probation'\n",
        "      self.advising_status='Denied'\n",
        "      self.courses_taken=0\n",
        "      print(f'Sorry, {n}, you are on probation and cannot take more than 2 courses.')\n",
        "    if (self.cgpa<2.00) and (1<=self.courses_taken<=2):\n",
        "      self.student_status='Probation'\n",
        "      self.advising_status='Denied'\n",
        "      self.courses_taken=0\n",
        "      print(f'Study hard this time, {n}.')\n",
        "    elif (self.cgpa>=2.00) and not(3<=self.courses_taken<=5):\n",
        "      self.student_status='Regular'\n",
        "      self.advising_status='Denied'\n",
        "      self.courses_taken=0\n",
        "      print(f'Hello {n}, You are a regular student and have to take between 3 to 5 courses.')\n",
        "    else:\n",
        "      self.student_status='Regular'\n",
        "      self.advising_status='Approved'\n",
        "      print(f'All the best, {n}, for the upcoming semester.')\n",
        "\n",
        "\n",
        "\n",
        "# Driver code\n",
        "s1 = Student(\"Clark\", 3.45, 4)\n",
        "print(f\"Name: {s1.name}\\nCGPA: {s1.cgpa}\\nCourses Taken: {s1.courses_taken}\")\n",
        "print(f\"Student Status: {s1.student_status}\\nAdvising Status: {s1.advising_status}\")\n",
        "print(\"--------------------------------------------------------------------------------\")\n",
        "s2 = Student(\"Barry\", 1.93, 2)\n",
        "print(f\"Name: {s2.name}\")\n",
        "print(f\"Student Status: {s2.student_status}\\nAdvising Status: {s2.advising_status}\")\n",
        "print(\"--------------------------------------------------------------------------------\")\n",
        "s3 = Student(\"Diana\", 2.91, 2)\n",
        "print(f\"Advising Status: {s3.advising_status}\\nCourses Taken: {s3.courses_taken}\")\n",
        "print(\"--------------------------------------------------------------------------------\")\n",
        "s4 = Student(\"Bruce\", 1.52, 5)\n",
        "print(f\"Advising Status: {s4.advising_status}\\nCourses Taken: {s4.courses_taken}\")\n"
      ],
      "metadata": {
        "colab": {
          "base_uri": "https://localhost:8080/"
        },
        "id": "899E0utIlzUb",
        "outputId": "721d50d3-ed07-4588-aac0-38f754a00f98"
      },
      "execution_count": null,
      "outputs": [
        {
          "output_type": "stream",
          "name": "stdout",
          "text": [
            "All the best, Clark, for the upcoming semester.\n",
            "Name: Clark\n",
            "CGPA: 3.45\n",
            "Courses Taken: 4\n",
            "Student Status: Regular\n",
            "Advising Status: Approved\n",
            "--------------------------------------------------------------------------------\n",
            "Study hard this time, Barry.\n",
            "Name: Barry\n",
            "Student Status: Probation\n",
            "Advising Status: Denied\n",
            "--------------------------------------------------------------------------------\n",
            "Hello Diana, You are a regular student and have to take between 3 to 5 courses.\n",
            "Advising Status: Denied\n",
            "Courses Taken: 0\n",
            "--------------------------------------------------------------------------------\n",
            "Sorry, Bruce, you are on probation and cannot take more than 2 courses.\n",
            "All the best, Bruce, for the upcoming semester.\n",
            "Advising Status: Approved\n",
            "Courses Taken: 0\n"
          ]
        }
      ]
    },
    {
      "cell_type": "code",
      "source": [
        "#task-5\n",
        "class CellPackage():\n",
        "  def __init__(self,p, d, t, m, c, v,):\n",
        "    print(f'Data = {d[0:len(d)-2]} MB')\n",
        "    print(f'Talktime = {t} Minutes')\n",
        "    print(f'SMS/MMS = {m}')\n",
        "    print(f'Validity = {v} Days')\n",
        "    print(f'--> Price = {p} tk')\n",
        "    if int((float(c[0:len(c)-1])/100)*p)!=0:\n",
        "      print(f'Buy now to get {int((float(c[0:len(c)-1])/100)*p)} tk cashback.')\n",
        "# Driver Code\n",
        "# Subtask 1: Write the CellPackage Class\n",
        "\n",
        "pkg = CellPackage(150, '6 GB', 99, 20, '7%', 7)\n",
        "print('===========Package 1=============')\n",
        "# Subtask 2: Check each attribute and print\n",
        "\n",
        "pkg2 = CellPackage(700, '35 GB', 700, 0, '10%', 30)\n",
        "print('===========Package 2=============')\n",
        "# Subtask 3: Check each attribute and print\n",
        "\n",
        "pkg4 = CellPackage(120, '0 GB', 190, 0, '0%', 10)\n",
        "print('============Package 3============')\n",
        "# Subtask 4: Check each attribute and print\n"
      ],
      "metadata": {
        "colab": {
          "base_uri": "https://localhost:8080/"
        },
        "id": "2XP5rvJ3v17P",
        "outputId": "e74d5918-0fe6-4b1d-b069-1dda191a4c0e"
      },
      "execution_count": null,
      "outputs": [
        {
          "output_type": "stream",
          "name": "stdout",
          "text": [
            "Data = 6  MB\n",
            "Talktime = 99 Minutes\n",
            "SMS/MMS = 20\n",
            "Validity = 7 Days\n",
            "--> Price = 150 tk\n",
            "Buy now to get 10 tk cashback.\n",
            "===========Package 1=============\n",
            "Data = 35  MB\n",
            "Talktime = 700 Minutes\n",
            "SMS/MMS = 0\n",
            "Validity = 30 Days\n",
            "--> Price = 700 tk\n",
            "Buy now to get 70 tk cashback.\n",
            "===========Package 2=============\n",
            "Data = 0  MB\n",
            "Talktime = 190 Minutes\n",
            "SMS/MMS = 0\n",
            "Validity = 10 Days\n",
            "--> Price = 120 tk\n",
            "============Package 3============\n"
          ]
        }
      ]
    },
    {
      "cell_type": "code",
      "source": [
        "#task-6\n",
        "class Human:\n",
        "    def __init__(self):\n",
        "        self.age = 0\n",
        "        self.height = 0.0\n",
        "h1 = Human()\n",
        "h2 = Human()\n",
        "h1.age = 21\n",
        "h1.height = 5.5\n",
        "print(h1.age)\n",
        "print(h1.height)\n",
        "h2.height = h1.height - 3\n",
        "print(h2.height)\n",
        "h2.age = h1.age\n",
        "h1.age += h1.age\n",
        "print(h1.age)\n",
        "h2 = h1\n",
        "print(h2.age)\n",
        "print(h2.height)\n",
        "h1.age += h1.age\n",
        "h2.height += h2.height\n",
        "print(h1.age)\n",
        "print(h1.height)\n",
        "h2.age += h2.age\n",
        "h1.age = h2.age\n",
        "print(h2.age)"
      ],
      "metadata": {
        "colab": {
          "base_uri": "https://localhost:8080/"
        },
        "id": "afuZNB9E11KE",
        "outputId": "fc098ae1-0ec4-4a2b-a7a3-431fdc2c4bab"
      },
      "execution_count": null,
      "outputs": [
        {
          "output_type": "stream",
          "name": "stdout",
          "text": [
            "21\n",
            "5.5\n",
            "2.5\n",
            "42\n",
            "42\n",
            "5.5\n",
            "84\n",
            "11.0\n",
            "168\n"
          ]
        }
      ]
    },
    {
      "cell_type": "code",
      "source": [
        "# homework\n",
        "#task-1\n",
        "import datetime as dt\n",
        "class Book():\n",
        "  def __init__(self, n, a, t):\n",
        "    self.name=n\n",
        "    self.author=a\n",
        "    self.year_of_publication=t\n",
        "    to = dt.date.today()\n",
        "    y = to.year\n",
        "    if y-t<=100:\n",
        "      self.status='Rejected. The book is not antique enough.'\n",
        "    elif y-t<=200:\n",
        "      self.status='Accepted. The book is stored on floor: 0.'\n",
        "    elif y-t<=400:\n",
        "      self.status='Accepted.The book is stored on floor: 1'\n",
        "    else:\n",
        "      self.status='Accepted.The book is stored on floor: 2.'\n",
        "book1= Book('The Act', 'Ferguson', 1924)\n",
        "print(f\"{book1.author} wrote the book '{book1.name}'.\")\n",
        "print(f\"This book was published in {book1.year_of_publication}.\")\n",
        "print(f\"This book is {book1.status}\")\n",
        "print(\"-------------------------------------\")\n",
        "book2= Book('Flame', 'Nolan', 1932)\n",
        "print(f\"{book2.author} wrote the book '{book2.name}'.\")\n",
        "print(f\"This book was published in {book2.year_of_publication}.\")\n",
        "print(f\"This book is {book2.status}\")\n",
        "print(\"-------------------------------------\")\n",
        "book3= Book('Norms', 'Alfred', 1832)\n",
        "print(f\"{book3.author} wrote the book '{book3.name}'.\")\n",
        "print(f\"This book was published in {book3.year_of_publication}.\")\n",
        "print(f\"This book is {book3.status}\")\n",
        "print(\"-------------------------------------\")\n",
        "book4= Book('Apex', 'Samson', 1923)\n",
        "print(f\"{book4.author} wrote the book '{book4.name}'.\")\n",
        "print(f\"This book was published in {book4.year_of_publication}.\")\n",
        "print(f\"This book is {book4.status}\")\n",
        "print(\"-------------------------------------\")\n",
        "book5= Book('Habitat', 'Eden', 1723)\n",
        "print(f\"{book5.author} wrote the book '{book5.name}'.\")\n",
        "print(f\"This book was published in {book5.year_of_publication}.\")\n",
        "print(f\"This book is {book5.status}\")\n",
        "print(\"-------------------------------------\")\n",
        "book6= Book('Apocalypto', 'Menez', 1603)\n",
        "print(f\"{book6.author} wrote the book '{book6.name}'.\")\n",
        "print(f\"This book was published in {book6.year_of_publication}.\")\n",
        "print(f\"This book is {book6.status}\")"
      ],
      "metadata": {
        "colab": {
          "base_uri": "https://localhost:8080/"
        },
        "id": "eNvZ1gcXdDee",
        "outputId": "cca86d41-2be0-42c8-d94c-1bab1831a6ba"
      },
      "execution_count": null,
      "outputs": [
        {
          "output_type": "stream",
          "name": "stdout",
          "text": [
            "Ferguson wrote the book 'The Act'.\n",
            "This book was published in 1924.\n",
            "This book is Rejected. The book is not antique enough.\n",
            "-------------------------------------\n",
            "Nolan wrote the book 'Flame'.\n",
            "This book was published in 1932.\n",
            "This book is Rejected. The book is not antique enough.\n",
            "-------------------------------------\n",
            "Alfred wrote the book 'Norms'.\n",
            "This book was published in 1832.\n",
            "This book is Accepted. The book is stored on floor: 0.\n",
            "-------------------------------------\n",
            "Samson wrote the book 'Apex'.\n",
            "This book was published in 1923.\n",
            "This book is Accepted. The book is stored on floor: 0.\n",
            "-------------------------------------\n",
            "Eden wrote the book 'Habitat'.\n",
            "This book was published in 1723.\n",
            "This book is Accepted.The book is stored on floor: 1\n",
            "-------------------------------------\n",
            "Menez wrote the book 'Apocalypto'.\n",
            "This book was published in 1603.\n",
            "This book is Accepted.The book is stored on floor: 2.\n"
          ]
        }
      ]
    },
    {
      "cell_type": "code",
      "source": [
        "# task-2\n",
        "class Pokemon():\n",
        "  def __init__(self, n1, n2, p1, p2, d ):\n",
        "    self.pokemon1_name=n1\n",
        "    self.pokemon2_name=n2\n",
        "    self.pokemon1_power=p1\n",
        "    self.pokemon2_power=p2\n",
        "    self.damage_rate=d\n",
        "\n",
        "\n",
        "team_pika = Pokemon('pikachu', 'charmander', 90, 60, 10)\n",
        "print('=======Team 1=======')\n",
        "print('Pokemon 1:',team_pika.pokemon1_name, team_pika.pokemon1_power)\n",
        "print('Pokemon 2:',team_pika.pokemon2_name, team_pika.pokemon2_power)\n",
        "pika_combined_power = (team_pika.pokemon1_power + team_pika.pokemon2_power) * team_pika.damage_rate\n",
        "print('Combined Power:', pika_combined_power)\n",
        "##########################################################\n",
        "team_bulb = Pokemon('bulbasaur', 'squirtle', 80, 70, 9)\n",
        "print('=======Team 2=======')\n",
        "print('Pokemon 1:',team_bulb.pokemon1_name, team_bulb.pokemon1_power)\n",
        "print('Pokemon 2:',team_bulb.pokemon2_name, team_bulb.pokemon2_power)\n",
        "pika_combined_power = (team_bulb.pokemon1_power + team_bulb.pokemon2_power) * team_bulb.damage_rate\n",
        "print('Combined Power:', pika_combined_power)"
      ],
      "metadata": {
        "colab": {
          "base_uri": "https://localhost:8080/"
        },
        "id": "YqGpSZNeTl_C",
        "outputId": "fdda140d-8e40-48a6-e7af-cda465eb1a8d"
      },
      "execution_count": null,
      "outputs": [
        {
          "output_type": "stream",
          "name": "stdout",
          "text": [
            "=======Team 1=======\n",
            "Pokemon 1: pikachu 90\n",
            "Pokemon 2: charmander 60\n",
            "Combined Power: 1500\n",
            "=======Team 2=======\n",
            "Pokemon 1: bulbasaur 80\n",
            "Pokemon 2: squirtle 70\n",
            "Combined Power: 1350\n"
          ]
        }
      ]
    },
    {
      "cell_type": "code",
      "source": [
        "# task-3\n",
        "class box():\n",
        "  def __init__(self, l):\n",
        "    self.height=l[0]\n",
        "    self.width=l[1]\n",
        "    self.breadth=l[2]\n",
        "print(\"Box 1\")\n",
        "b1 = box([10,10,10])\n",
        "print(\"=========================\")\n",
        "print(\"Height:\", b1.height)\n",
        "print(\"Width:\", b1.width)\n",
        "print(\"Breadth:\", b1.breadth)\n",
        "volume = b1.height * b1.width * b1.breadth\n",
        "print(f\"Volume of the box is {volume} cubic units.\")\n",
        "print(\"-------------------------\")\n",
        "print(\"Box 2\")\n",
        "b2 = box((30,10,10))\n",
        "print(\"=========================\")\n",
        "print(\"Height:\", b2.height)\n",
        "print(\"Width:\", b2.width)\n",
        "print(\"Breadth:\", b2.breadth)\n",
        "volume = b2.height * b2.width * b2.breadth\n",
        "print(f\"Volume of the box is {volume} cubic units.\")\n",
        "b2.height = 300\n",
        "print(\"Updating Box 2!\")\n",
        "print(\"Height:\", b2.height)\n",
        "print(\"Width:\", b2.width)\n",
        "print(\"Breadth:\", b2.breadth)\n",
        "volume = b2.height * b2.width * b2.breadth\n",
        "print(f\"Volume of the box is {volume} cubic units.\")\n",
        "print(\"-------------------------\")\n",
        "print(\"Box 3\")\n",
        "b3 = b2\n",
        "print(\"Height:\", b3.height)\n",
        "print(\"Width:\", b3.width)\n",
        "print(\"Breadth:\", b3.breadth)\n",
        "volume = b3.height * b3.width * b3.breadth\n",
        "print(f\"Volume of the box is {volume} cubic units.\")"
      ],
      "metadata": {
        "colab": {
          "base_uri": "https://localhost:8080/"
        },
        "id": "6YP3fUvHg-mu",
        "outputId": "5d871815-4a5b-4b9d-b524-8d83bc2942e9"
      },
      "execution_count": null,
      "outputs": [
        {
          "output_type": "stream",
          "name": "stdout",
          "text": [
            "Box 1\n",
            "=========================\n",
            "Height: 10\n",
            "Width: 10\n",
            "Breadth: 10\n",
            "Volume of the box is 1000 cubic units.\n",
            "-------------------------\n",
            "Box 2\n",
            "=========================\n",
            "Height: 30\n",
            "Width: 10\n",
            "Breadth: 10\n",
            "Volume of the box is 3000 cubic units.\n",
            "Updating Box 2!\n",
            "Height: 300\n",
            "Width: 10\n",
            "Breadth: 10\n",
            "Volume of the box is 30000 cubic units.\n",
            "-------------------------\n",
            "Box 3\n",
            "Height: 300\n",
            "Width: 10\n",
            "Breadth: 10\n",
            "Volume of the box is 30000 cubic units.\n",
            "True True\n"
          ]
        }
      ]
    },
    {
      "cell_type": "code",
      "source": [
        "# task-4\n",
        "class Order():\n",
        "  def __init__(self, m, i):\n",
        "    l = i.split(', ')\n",
        "    l1 = []\n",
        "    for j in l:\n",
        "      n, q = j.split('-')\n",
        "      p = m[n] * int(q)\n",
        "      l1.extend([n, int(q), p])\n",
        "    self.items=l1\n",
        "\n",
        "\n",
        "\n",
        "# Write your class code here\n",
        "menu = {\n",
        "    'Chicken_Cheeseburger' : 249,\n",
        "    'Mega_Cheeseburger' : 289,\n",
        "    'Fries' : 139,\n",
        "    'Hot_Wings' : 99,\n",
        "    'Rice_Bowl' : 299,\n",
        "    'Soft_Drinks' : 50\n",
        "}\n",
        "order1 = Order(menu, \"Chicken_Cheeseburger-2, Fries-3, Soft_Drinks-3\")\n",
        "print(order1.items)\n",
        "print()\n",
        "print('-'*35)\n",
        "print('Item           x Quantity :   Price')\n",
        "print('--------------   --------   -------')\n",
        "index = 0\n",
        "total = 0\n",
        "while index < len(order1.items):\n",
        "  item = order1.items[index]\n",
        "  quantity = order1.items[index+1]\n",
        "  price = order1.items[index+2]\n",
        "  print(f'{item:20} x {quantity:2} : {price:7.2f}')\n",
        "  total += price\n",
        "  index += 3 # Going to next item\n",
        "print('-'*35)\n",
        "print(f'Total:                      {total:7.2f}')\n",
        "print('-'*35)"
      ],
      "metadata": {
        "colab": {
          "base_uri": "https://localhost:8080/"
        },
        "id": "8Mdirr1AhLQs",
        "outputId": "e88e1a1e-e195-435f-e23e-9b6e57dd7749"
      },
      "execution_count": null,
      "outputs": [
        {
          "output_type": "stream",
          "name": "stdout",
          "text": [
            "['Chicken_Cheeseburger', 2, 498, 'Fries', 3, 417, 'Soft_Drinks', 3, 150]\n",
            "\n",
            "-----------------------------------\n",
            "Item           x Quantity :   Price\n",
            "--------------   --------   -------\n",
            "Chicken_Cheeseburger x  2 :  498.00\n",
            "Fries                x  3 :  417.00\n",
            "Soft_Drinks          x  3 :  150.00\n",
            "-----------------------------------\n",
            "Total:                      1065.00\n",
            "-----------------------------------\n"
          ]
        }
      ]
    },
    {
      "cell_type": "code",
      "source": [
        "# task-5\n",
        "class Student:\n",
        "    def __init__(self):\n",
        "        self.name = None\n",
        "        self.cgpa = 0.0\n",
        "s1 = Student()\n",
        "s2 = Student()\n",
        "s3 = None\n",
        "s1.name = \"Student One\"\n",
        "s1.cgpa = 2.3\n",
        "s3 = s1\n",
        "s2.name = \"Student Two\"\n",
        "s2.cgpa = s3.cgpa + 1\n",
        "s3.name = \"New Student\"\n",
        "print(s1.name)\n",
        "print(s2.name)\n",
        "print(s3.name)\n",
        "print(s1.cgpa)\n",
        "print(s2.cgpa)\n",
        "print(s3.cgpa)\n",
        "s3 = s2\n",
        "s1.name = \"old student\"\n",
        "s2.name = \"older student\"\n",
        "s3.name = \"oldest student\"\n",
        "s2.cgpa = s1.cgpa - s3.cgpa + 4.5\n",
        "print(s1.name)\n",
        "print(s2.name)\n",
        "print(s3.name)\n",
        "print(s1.cgpa)\n",
        "print(s2.cgpa)\n",
        "print(s3.cgpa)"
      ],
      "metadata": {
        "colab": {
          "base_uri": "https://localhost:8080/"
        },
        "id": "GdKzEpWdhjVk",
        "outputId": "ef3adbf0-f9de-404a-fac3-8976c156f2b6"
      },
      "execution_count": null,
      "outputs": [
        {
          "output_type": "stream",
          "name": "stdout",
          "text": [
            "New Student\n",
            "Student Two\n",
            "New Student\n",
            "2.3\n",
            "3.3\n",
            "2.3\n",
            "old student\n",
            "oldest student\n",
            "oldest student\n",
            "2.3\n",
            "3.5\n",
            "3.5\n"
          ]
        }
      ]
    }
  ]
}