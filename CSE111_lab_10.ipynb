{
  "nbformat": 4,
  "nbformat_minor": 0,
  "metadata": {
    "colab": {
      "provenance": []
    },
    "kernelspec": {
      "name": "python3",
      "display_name": "Python 3"
    },
    "language_info": {
      "name": "python"
    }
  },
  "cells": [
    {
      "cell_type": "code",
      "execution_count": null,
      "metadata": {
        "colab": {
          "base_uri": "https://localhost:8080/"
        },
        "id": "jy0tu2Hexpdr",
        "outputId": "c72faf05-fe9c-41e5-e3db-421da1366158"
      },
      "outputs": [
        {
          "output_type": "stream",
          "name": "stdout",
          "text": [
            "Name: default Department: BBA\n",
            "Name: Humpty Dumpty Department: BBA\n",
            "Name: Little Bo Peep Department: BBA\n"
          ]
        }
      ],
      "source": [
        "#task-1\n",
        "\n",
        "class Student:\n",
        "  def __init__(self, name='Just a student', dept='nothing'):\n",
        "    self.__name = name\n",
        "    self.__department = dept\n",
        "  def set_department(self, dept):\n",
        "    self.__department = dept\n",
        "  def get_name(self):\n",
        "    return self.__name\n",
        "  def set_name(self,name):\n",
        "    self.__name = name\n",
        "  def detail(self):\n",
        "    return 'Name: '+self.__name+' Department: '+self.__department\n",
        "\n",
        "class BBA_Student(Student):\n",
        "  def __init__(self,name='default',dept='BBA'):\n",
        "    super().__init__(name,dept)\n",
        "\n",
        "\n",
        "\n",
        "\n",
        "print(BBA_Student().detail())\n",
        "print(BBA_Student('Humpty Dumpty').detail())\n",
        "print(BBA_Student('Little Bo Peep').detail())"
      ]
    },
    {
      "cell_type": "code",
      "source": [
        "#task-2\n",
        "class Vehicle:\n",
        "  def __init__(self):\n",
        "    self.x = 0\n",
        "    self.y = 0\n",
        "  def moveUp(self):\n",
        "    self.y += 1\n",
        "  def moveDown(self):\n",
        "    self.y -= 1\n",
        "  def moveRight(self):\n",
        "    self.x += 1\n",
        "  def moveLeft(self):\n",
        "    self.x -= 1\n",
        "  def detail(self):\n",
        "    return '('+str(self.x)+' , '+str(self.y)+')'\n",
        "class Vehicle2010(Vehicle):\n",
        "  def __init__(self):\n",
        "    super().__init__()\n",
        "  def equals(self,v):\n",
        "    if (self.x==v.x) and (self.y==v.y):\n",
        "      return True\n",
        "    else:\n",
        "      return False\n",
        "  def moveUpperRight(self):\n",
        "    super().moveUp()\n",
        "    super().moveRight()\n",
        "  def moveUpperLeft(self):\n",
        "    super().moveUp()\n",
        "    super().moveLeft()\n",
        "  def moveLowerRight(self):\n",
        "    super().moveDown()\n",
        "    super().moveRight()\n",
        "  def moveLowerLeft(self):\n",
        "    super().moveDown()\n",
        "    super().moveLeft()\n",
        "\n",
        "\n",
        "\n",
        "\n",
        "print('Part 1')\n",
        "print('------')\n",
        "car = Vehicle()\n",
        "print(car.detail())\n",
        "car.moveUp()\n",
        "print(car.detail())\n",
        "car.moveLeft()\n",
        "print(car.detail())\n",
        "car.moveDown()\n",
        "print(car.detail())\n",
        "car.moveRight()\n",
        "print(car.detail())\n",
        "print('------')\n",
        "print('Part 2')\n",
        "print('------')\n",
        "car1 = Vehicle2010()\n",
        "print(car1.detail())\n",
        "car1.moveLowerLeft()\n",
        "print(car1.detail())\n",
        "car2 = Vehicle2010()\n",
        "car2.moveLeft()\n",
        "print(car1.equals(car2))\n",
        "car2.moveDown()\n",
        "print(car1.equals(car2))"
      ],
      "metadata": {
        "colab": {
          "base_uri": "https://localhost:8080/"
        },
        "id": "BkqJ8Pkk1All",
        "outputId": "8a8438fa-dad7-487d-9f5f-0b15a9de4df1"
      },
      "execution_count": null,
      "outputs": [
        {
          "output_type": "stream",
          "name": "stdout",
          "text": [
            "Part 1\n",
            "------\n",
            "(0 , 0)\n",
            "(0 , 1)\n",
            "(-1 , 1)\n",
            "(-1 , 0)\n",
            "(0 , 0)\n",
            "------\n",
            "Part 2\n",
            "------\n",
            "(0 , 0)\n",
            "(-1 , -1)\n",
            "False\n",
            "True\n"
          ]
        }
      ]
    },
    {
      "cell_type": "code",
      "source": [
        "#task-3\n",
        "class Tournament:\n",
        "  def __init__(self,name='Default'):\n",
        "    self.__name = name\n",
        "  def set_name(self,name):\n",
        "    self.__name = name\n",
        "  def get_name(self):\n",
        "    return self.__name\n",
        "\n",
        "class Cricket_Tournament(Tournament):\n",
        "  def __init__(self,name='Default',n=0,t='No type'):\n",
        "    super().__init__(name)\n",
        "    self.n=n\n",
        "    self.t=t\n",
        "  def detail(self):\n",
        "    return f'Cricket Tournament Name: {self.get_name()}\\nNumber of Teams: {self.n}\\nType: {self.t}'\n",
        "\n",
        "class Tennis_Tournament(Tournament):\n",
        "  def __init__(self,name='Default',n=0):\n",
        "     super().__init__(name)\n",
        "     self.n=n\n",
        "  def detail(self):\n",
        "    return f'Tennis Tournament Name: {self.get_name()}\\nNumber of Players: {self.n}'\n",
        "\n",
        "\n",
        "\n",
        "\n",
        "ct1 = Cricket_Tournament()\n",
        "print(ct1.detail())\n",
        "print(\"-----------------------\")\n",
        "ct2 = Cricket_Tournament(\"IPL\",10,\"t20\")\n",
        "print(ct2.detail())\n",
        "print(\"-----------------------\")\n",
        "tt = Tennis_Tournament(\"Roland Garros\",128)\n",
        "print(tt.detail())"
      ],
      "metadata": {
        "colab": {
          "base_uri": "https://localhost:8080/"
        },
        "id": "cJt_zfLw-Ias",
        "outputId": "27a3f72d-fdb6-408d-ac0f-99016ee9d427"
      },
      "execution_count": null,
      "outputs": [
        {
          "output_type": "stream",
          "name": "stdout",
          "text": [
            "Cricket Tournament Name: Default\n",
            "Number of Teams: 0\n",
            "Type: No type\n",
            "-----------------------\n",
            "Cricket Tournament Name: IPL\n",
            "Number of Teams: 10\n",
            "Type: t20\n",
            "-----------------------\n",
            "Tennis Tournament Name: Roland Garros\n",
            "Number of Players: 128\n"
          ]
        }
      ]
    },
    {
      "cell_type": "code",
      "source": [
        "#task-4\n",
        "class Product:\n",
        "  def __init__(self,id, title, price):\n",
        "    self.__id = id\n",
        "    self.__title = title\n",
        "    self.__price = price\n",
        "  def get_id_title_price(self):\n",
        "    return \"ID: \"+str(self.__id)+\" Title:\"+self.__title+\"Price: \"+str(self.__price)\n",
        "class Book(Product):\n",
        "  def __init__(self,id,title, price, ISBN,p ):\n",
        "    super().__init__(id, title, price)\n",
        "    self.ISBN=ISBN\n",
        "    self.p=p\n",
        "  def printDetail(self):\n",
        "    print(super().get_id_title_price())\n",
        "    return f'ISBN: {self.ISBN} Publisher: {self.p}'\n",
        "\n",
        "\n",
        "class CD(Product):\n",
        "  def __init__(self,id,title, price,b,m,g):\n",
        "    super().__init__(id, title, price)\n",
        "    self.b=b\n",
        "    self.m=m\n",
        "    self.g=g\n",
        "  def printDetail(self):\n",
        "    print(super().get_id_title_price())\n",
        "    return f'Band: {self.b}: {self.m} minutes Genre: {self.g}'\n",
        "\n",
        "\n",
        "\n",
        "book = Book(1,\"The Alchemist\",500,\"97806\",\"HarperCollins\")\n",
        "print(book.printDetail())\n",
        "print(\"-----------------------\")\n",
        "cd = CD(2,\"Shotto\",300,\"Warfaze\",50,\"Hard Rock\")\n",
        "print(cd.printDetail())"
      ],
      "metadata": {
        "colab": {
          "base_uri": "https://localhost:8080/"
        },
        "id": "HpXpyOjkA1Rb",
        "outputId": "274fb676-be8c-4ee0-8cd6-69b96295028a"
      },
      "execution_count": null,
      "outputs": [
        {
          "output_type": "stream",
          "name": "stdout",
          "text": [
            "ID: 1 Title:The AlchemistPrice: 500\n",
            "ISBN: 97806 Publisher: HarperCollins\n",
            "-----------------------\n",
            "ID: 2 Title:ShottoPrice: 300\n",
            "Band: Warfaze: 50 minutes Genre: Hard Rock\n"
          ]
        }
      ]
    },
    {
      "cell_type": "code",
      "source": [
        "#task-5\n",
        "class Animal:\n",
        "  def __init__(self,sound):\n",
        "    self.__sound = sound\n",
        "  def makeSound(self):\n",
        "    return self.__sound\n",
        "\n",
        "class Printer:\n",
        "  def printSound(self, a):\n",
        "    print(a.makeSound())\n",
        "\n",
        "class Dog(Animal):\n",
        "  pass\n",
        "class Cat(Animal):\n",
        "  pass\n",
        "\n",
        "\n",
        "d1 = Dog('bark')\n",
        "c1 = Cat('meow')\n",
        "a1 = Animal('Animal does not make sound')\n",
        "pr = Printer()\n",
        "pr.printSound(a1)\n",
        "pr.printSound(c1)\n",
        "pr.printSound(d1)"
      ],
      "metadata": {
        "colab": {
          "base_uri": "https://localhost:8080/"
        },
        "id": "_M6Z8W5LISpZ",
        "outputId": "064c9c5d-d10e-45f2-bd6d-f64ede47031c"
      },
      "execution_count": null,
      "outputs": [
        {
          "output_type": "stream",
          "name": "stdout",
          "text": [
            "Animal does not make sound\n",
            "meow\n",
            "bark\n"
          ]
        }
      ]
    },
    {
      "cell_type": "markdown",
      "source": [
        "# Homework Part"
      ],
      "metadata": {
        "id": "N4vErgccJedi"
      }
    },
    {
      "cell_type": "code",
      "source": [
        "#task-1\n",
        "class Shape:\n",
        "  def __init__(self, name='Default', height=0, base=0):\n",
        "    self.area = 0\n",
        "    self.name = name\n",
        "    self.height = height\n",
        "    self.base = base\n",
        "  def get_height_base(self):\n",
        "    return \"Height: \"+str(self.height)+\", Base: \"+str(self.base)\n",
        "\n",
        "class triangle(Shape):\n",
        "  def calcArea(self):\n",
        "    self.area= round(float(0.5*self.height*self.base),1)\n",
        "  def printDetail(self):\n",
        "    return f'Shape name: {self.name} \\nHeight: {self.height}, Base: {self.base} \\nArea: {self.area}'\n",
        "\n",
        "class trapezoid(Shape):\n",
        "  def __init__(self, name='Default', height=0, base=0, Side_A=0):\n",
        "    super().__init__(name, height, base)\n",
        "    self.Side_A=Side_A\n",
        "  def calcArea(self):\n",
        "    self.area= round(float(0.5*self.height*(self.base+self.Side_A)),1)\n",
        "  def printDetail(self):\n",
        "    return f'Shape name: {self.name} \\nHeight: {self.height}, Base: {self.base} Side_A: {self.Side_A} \\nArea: {self.area}'\n",
        "\n",
        "tri_default = triangle()\n",
        "tri_default.calcArea()\n",
        "print(tri_default.printDetail())\n",
        "print('--------------------------')\n",
        "tri = triangle('Triangle', 10, 5)\n",
        "tri.calcArea()\n",
        "print(tri.printDetail())\n",
        "print('---------------------------')\n",
        "trap = trapezoid('Trapezoid', 10, 6, 4)\n",
        "trap.calcArea()\n",
        "print(trap.printDetail())"
      ],
      "metadata": {
        "id": "Gs9a0j2NJlQR",
        "colab": {
          "base_uri": "https://localhost:8080/"
        },
        "outputId": "b9540ebe-cf8a-4f8e-e8d1-a13ab4aa27f1"
      },
      "execution_count": null,
      "outputs": [
        {
          "output_type": "stream",
          "name": "stdout",
          "text": [
            "Shape name: Default \n",
            "Height: 0, Base: 0 \n",
            "Area: 0.0\n",
            "--------------------------\n",
            "Shape name: Triangle \n",
            "Height: 10, Base: 5 \n",
            "Area: 25.0\n",
            "---------------------------\n",
            "Shape name: Trapezoid \n",
            "Height: 10, Base: 6 Side_A: 4 \n",
            "Area: 50.0\n"
          ]
        }
      ]
    },
    {
      "cell_type": "code",
      "source": [
        "#task-2\n",
        "class SportsPerson:\n",
        "  def __init__(self, team_name, name, role):\n",
        "    self.__team = team_name\n",
        "    self.__name = name\n",
        "    self.role = role\n",
        "    self.earning_per_match = 0\n",
        "  def get_name_team(self):\n",
        "    return 'Name: '+self.__name+', Team Name: ' +self.__team\n",
        "class Player(SportsPerson):\n",
        "  def __init__(self, team_name, name, role,tg,tp):\n",
        "    super().__init__(team_name, name, role)\n",
        "    self.tg=tg\n",
        "    self.tp=tp\n",
        "    self.gr=0\n",
        "    self.me=0\n",
        "  def calculate_ratio(self):\n",
        "    self.gr=round(self.tg/self.tp,5)\n",
        "    self.me=self.tg*1000 + self.tp*10\n",
        "  def print_details(self):\n",
        "    print(self.get_name_team())\n",
        "    #print(f'Name: {self.__name}, Team Name: {self.__team}')\n",
        "    print(f'Team Role: {self.role}')\n",
        "    print(f'Total Goal: {self.tg}, Total Played: {self.tp}')\n",
        "    print(f'Goal Ratio: {self.gr}')\n",
        "    print(f'Match Earning: {self.me}K')\n",
        "\n",
        "class Manager(SportsPerson):\n",
        "  def __init__(self, team_name, name, role,tw):\n",
        "    super().__init__(team_name, name, role)\n",
        "    self.tw=tw\n",
        "  def print_details(self):\n",
        "    print(self.get_name_team())\n",
        "    print(f'Team Role: {self.role}')\n",
        "    print(f'Total Win: {self.tw}')\n",
        "    print(f'Match Earning: {self.tw*1000}K')\n",
        "\n",
        "player_one = Player('Al-Nassr', 'Ronaldo', 'Striker', 25, 32)\n",
        "player_one.calculate_ratio()\n",
        "player_one.print_details()\n",
        "print('------------------------------------------')\n",
        "manager_one = Manager('Real Madrid', 'Zidane', 'Manager', 25)\n",
        "manager_one.print_details()"
      ],
      "metadata": {
        "id": "EDv4DjNyJwJZ",
        "colab": {
          "base_uri": "https://localhost:8080/"
        },
        "outputId": "60b62333-c1c8-45f4-dd47-d1b3bec85227"
      },
      "execution_count": null,
      "outputs": [
        {
          "output_type": "stream",
          "name": "stdout",
          "text": [
            "Name: Ronaldo, Team Name: Al-Nassr\n",
            "Team Role: Striker\n",
            "Total Goal: 25, Total Played: 32\n",
            "Goal Ratio: 0.78125\n",
            "Match Earning: 25320K\n",
            "------------------------------------------\n",
            "Name: Zidane, Team Name: Real Madrid\n",
            "Team Role: Manager\n",
            "Total Win: 25\n",
            "Match Earning: 25000K\n"
          ]
        }
      ]
    },
    {
      "cell_type": "code",
      "source": [
        "#task-3\n",
        "class KK_tea():\n",
        "  ts={}\n",
        "  def __init__(self,pr,tb=50):\n",
        "    self.pr=pr\n",
        "    self.tb=tb\n",
        "    self.st=False\n",
        "    self.n='KK Regular Tea'\n",
        "  def product_detail(self):\n",
        "    print(f'Name: {self.n}, Weight: {self.tb*2}')\n",
        "    print(f'Tea Bags: {self.tb}, Price: {self.pr}')\n",
        "    print(f'Status: {self.st}')\n",
        "  @classmethod\n",
        "  def update_sold_status_regular(cal,*args):\n",
        "    for i in args:\n",
        "      i.st=True\n",
        "      if i.n not in KK_tea.ts:\n",
        "        KK_tea.ts[i.n]=1\n",
        "      else:\n",
        "        KK_tea.ts[i.n]+=1\n",
        "  @classmethod\n",
        "  def total_sales(cal):\n",
        "    print(f\"Total sales: {KK_tea.ts}\")\n",
        "\n",
        "class KK_flavoured_tea(KK_tea):\n",
        "  def __init__(self,n,pr,tb):\n",
        "    super().__init__(pr,tb)\n",
        "    self.n=f'KK {n} Tea'\n",
        "  @classmethod\n",
        "  def update_sold_status_flavoured(cal,*args):\n",
        "    super().update_sold_status_regular(*args)\n",
        "\n",
        "\n",
        "\n",
        "t1 = KK_tea(250)\n",
        "print(\"-----------------1-----------------\")\n",
        "t1.product_detail()\n",
        "print(\"-----------------2-----------------\")\n",
        "KK_tea.total_sales()\n",
        "print(\"-----------------3-----------------\")\n",
        "t2 = KK_tea(470, 100)\n",
        "t3 = KK_tea(360, 75)\n",
        "KK_tea.update_sold_status_regular(t1, t2, t3)\n",
        "print(\"-----------------4-----------------\")\n",
        "t3.product_detail()\n",
        "print(\"-----------------5-----------------\")\n",
        "KK_tea.total_sales()\n",
        "print(\"-----------------6-----------------\")\n",
        "t4 = KK_flavoured_tea(\"Jasmine\", 260, 50)\n",
        "t5 = KK_flavoured_tea(\"Honey Lemon\", 270, 45)\n",
        "t6 = KK_flavoured_tea(\"Honey Lemon\", 270, 45)\n",
        "print(\"-----------------7-----------------\")\n",
        "t4.product_detail()\n",
        "print(\"-----------------8-----------------\")\n",
        "t6.product_detail()\n",
        "print(\"-----------------9-----------------\")\n",
        "KK_flavoured_tea.update_sold_status_flavoured(t4,\n",
        "t5, t6)\n",
        "print(\"-----------------10-----------------\")\n",
        "KK_tea.total_sales()"
      ],
      "metadata": {
        "id": "BwY8fCPRJwjp",
        "colab": {
          "base_uri": "https://localhost:8080/"
        },
        "outputId": "be4cc952-709d-420b-f5d9-b8e638e75875"
      },
      "execution_count": null,
      "outputs": [
        {
          "output_type": "stream",
          "name": "stdout",
          "text": [
            "-----------------1-----------------\n",
            "Name: KK Regular Tea, Weight: 100\n",
            "Tea Bags: 50, Price: 250\n",
            "Status: False\n",
            "-----------------2-----------------\n",
            "Total sales: {}\n",
            "-----------------3-----------------\n",
            "-----------------4-----------------\n",
            "Name: KK Regular Tea, Weight: 150\n",
            "Tea Bags: 75, Price: 360\n",
            "Status: True\n",
            "-----------------5-----------------\n",
            "Total sales: {'KK Regular Tea': 3}\n",
            "-----------------6-----------------\n",
            "-----------------7-----------------\n",
            "Name: KK Jasmine Tea, Weight: 100\n",
            "Tea Bags: 50, Price: 260\n",
            "Status: False\n",
            "-----------------8-----------------\n",
            "Name: KK Honey Lemon Tea, Weight: 90\n",
            "Tea Bags: 45, Price: 270\n",
            "Status: False\n",
            "-----------------9-----------------\n",
            "-----------------10-----------------\n",
            "Total sales: {'KK Regular Tea': 3, 'KK Jasmine Tea': 1, 'KK Honey Lemon Tea': 2}\n"
          ]
        }
      ]
    },
    {
      "cell_type": "code",
      "source": [
        "#task-4\n",
        "class TwoDVector:\n",
        "  def __init__(self, x, y):\n",
        "    self.x = x\n",
        "    self.y = y\n",
        "  def add2DVectors(self, *vectors):\n",
        "    for i in vectors:\n",
        "      self.x += i.x\n",
        "      self.y += i.y\n",
        "  def print2DVector(self):\n",
        "    if self.y >= 0:\n",
        "      y = \"+ \"+str(self.y)\n",
        "    else:\n",
        "      y = str(self.y)\n",
        "    print(f\"{self.x}i {y}j\")\n",
        "\n",
        "class ThreeDVector(TwoDVector):\n",
        "  def __init__(self,x,y,z):\n",
        "    super().__init__(x,y)\n",
        "    self.z=z\n",
        "  def add3DVectors(self,*args):\n",
        "    super().add2DVectors(*args)\n",
        "    for i in args:\n",
        "      self.z+=i.z\n",
        "  def print3DVector(self):\n",
        "    if self.y >= 0:\n",
        "      y = \"+ \"+str(self.y)\n",
        "    else:\n",
        "      y = str(self.y)\n",
        "    print(f\"{self.x}i {y}j\")\n",
        "    if self.z >= 0:\n",
        "      z = \"+ \"+str(self.z)\n",
        "    else:\n",
        "      z = str(self.z)\n",
        "    print(f\"{self.x}i {y}j {z}k\")\n",
        "  def multiplyScalar(self,n):\n",
        "    self.x*=n\n",
        "    self.y*=n\n",
        "    self.z*=n\n",
        "  def calculateLength(self):\n",
        "    return (self.x**2+self.y**2+self.z**2)**0.5\n",
        "\n",
        "\n",
        "\n",
        "TwoDV1 = TwoDVector(5, 6)\n",
        "TwoDV2 = TwoDVector(3, 7)\n",
        "TwoDV3 = TwoDVector(1, 8)\n",
        "print(\"===============\")\n",
        "TwoDV1.add2DVectors(TwoDV2, TwoDV3)\n",
        "TwoDV1.print2DVector()\n",
        "print(\"===============\")\n",
        "ThreeDV1 = ThreeDVector(5, 6, 1)\n",
        "ThreeDV2 = ThreeDVector(1, 9, -7)\n",
        "ThreeDV3 = ThreeDVector(8, 2, 4)\n",
        "print(\"===============\")\n",
        "ThreeDV1.add3DVectors(ThreeDV2,ThreeDV3)\n",
        "ThreeDV1.print3DVector()\n",
        "print(\"===============\")\n",
        "ThreeDV1.multiplyScalar(3)\n",
        "ThreeDV1.print3DVector()\n",
        "print(\"===============\")\n",
        "print(ThreeDV1.calculateLength())"
      ],
      "metadata": {
        "id": "drDd01sYJw6q",
        "colab": {
          "base_uri": "https://localhost:8080/"
        },
        "outputId": "4eeefa6c-f597-4a22-ea56-602e83ac92ff"
      },
      "execution_count": null,
      "outputs": [
        {
          "output_type": "stream",
          "name": "stdout",
          "text": [
            "===============\n",
            "9i + 21j\n",
            "===============\n",
            "===============\n",
            "14i + 17j\n",
            "14i + 17j -2k\n",
            "===============\n",
            "42i + 51j\n",
            "42i + 51j -6k\n",
            "===============\n",
            "66.34003316248794\n"
          ]
        }
      ]
    },
    {
      "cell_type": "code",
      "source": [
        "class check:\n",
        "  def __init__(self):\n",
        "   self.__prv='yes'\n",
        "   self.notprv='all'\n",
        "  def get(self):\n",
        "   self.__prv='no1'\n",
        "   self.notprv='none1'\n",
        "obj1=check()\n",
        "print(obj1.notprv)\n",
        "obj1.__prv='no2'\n",
        "x='why me?'\n",
        "obj1.notprv='none2'\n",
        "print(obj1.__prv,obj1.notprv)\n",
        "obj1.get()\n",
        "print(obj1.__prv,obj1.notprv)\n",
        "#print(dir(check))"
      ],
      "metadata": {
        "colab": {
          "base_uri": "https://localhost:8080/"
        },
        "id": "RFFV16NCM74x",
        "outputId": "37634a3b-546c-4e9a-e8c4-a73632e551ed"
      },
      "execution_count": null,
      "outputs": [
        {
          "output_type": "stream",
          "name": "stdout",
          "text": [
            "all\n",
            "no2 none2\n",
            "no2 none1\n"
          ]
        }
      ]
    }
  ]
}