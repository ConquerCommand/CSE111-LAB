{
  "nbformat": 4,
  "nbformat_minor": 0,
  "metadata": {
    "colab": {
      "provenance": []
    },
    "kernelspec": {
      "name": "python3",
      "display_name": "Python 3"
    },
    "language_info": {
      "name": "python"
    }
  },
  "cells": [
    {
      "cell_type": "code",
      "execution_count": null,
      "metadata": {
        "colab": {
          "base_uri": "https://localhost:8080/"
        },
        "id": "-d9OmlQCYkIR",
        "outputId": "678e316f-a505-4589-84b5-e3d520c78822"
      },
      "outputs": [
        {
          "output_type": "stream",
          "name": "stdout",
          "text": [
            "Your score is 31.3. you are Obese\n",
            "Your score is 20.8. you are Normal\n"
          ]
        }
      ],
      "source": [
        "#task-1\n",
        "def bmi(a,b):\n",
        "  x=b/(a/100)**2\n",
        "  x=round(x,1)\n",
        "  if x<18.5:\n",
        "    print(f'Your score is {x}. you are Underweight')\n",
        "  elif 18.5<=x<24.9:\n",
        "    print(f'Your score is {x}. you are Normal')\n",
        "  elif 25<=x<=30:\n",
        "    print(f'Your score is {x}. you are Overweight')\n",
        "  elif x>30:\n",
        "    print(f'Your score is {x}. you are Obese')\n",
        "bmi(175,96)\n",
        "bmi(152,48)"
      ]
    },
    {
      "cell_type": "code",
      "source": [
        "#task-2\n",
        "def chill(a,b='Mohakhali'):\n",
        "  t=40\n",
        "  if b!='Mohakhali':\n",
        "    t=60\n",
        "  if a=='BBQ Chicken Cheese Burger':\n",
        "    t+=(250+250*0.08)\n",
        "  elif a=='Beef Burger':\n",
        "    t+=(170+170*0.08)\n",
        "  elif a=='Naga Drums':\n",
        "    t+=(200+200*0.08)\n",
        "  print(t)\n",
        "chill('Beef Burger','Dhanmondi')\n",
        "chill('Beef Burger')"
      ],
      "metadata": {
        "colab": {
          "base_uri": "https://localhost:8080/"
        },
        "id": "tiatJ9Y9d22v",
        "outputId": "5939d3ab-d92f-4206-cf61-b3b2fdfd7d1e"
      },
      "execution_count": null,
      "outputs": [
        {
          "output_type": "stream",
          "name": "stdout",
          "text": [
            "243.6\n",
            "223.6\n"
          ]
        }
      ]
    },
    {
      "cell_type": "code",
      "source": [
        "#task-3\n",
        "def email(a,b,c='kaaj.com'):\n",
        "  l=a.split('@')\n",
        "  if l[1]==b:\n",
        "    print(f'unchanged: {a}')\n",
        "  else:\n",
        "    l[1]=b\n",
        "    print(f'changed: {l[0]}@{l[1]}')\n",
        "email('alice@kaaj.com','sheba.xyz','kaaj.com')\n",
        "email('bob@sheba.xyz','sheba.xyz')"
      ],
      "metadata": {
        "colab": {
          "base_uri": "https://localhost:8080/"
        },
        "id": "biUbp147hOvP",
        "outputId": "464db85e-ed0f-4ffb-8fd0-02cbdd10fe27"
      },
      "execution_count": null,
      "outputs": [
        {
          "output_type": "stream",
          "name": "stdout",
          "text": [
            "changed: alice@sheba.xyz\n",
            "unchanged: bob@sheba.xyz\n"
          ]
        }
      ]
    },
    {
      "cell_type": "code",
      "source": [
        "#task-4\n",
        "def pal(a):\n",
        "  v=''\n",
        "  for i in a:\n",
        "    if i!=' ':\n",
        "      v+=i\n",
        "  if v==v[::-1]:\n",
        "    print('palindrome')\n",
        "  else:\n",
        "    print('Not a palindrome')\n",
        "pal('madam')\n",
        "pal('hellow')\n",
        "pal('nurses run')"
      ],
      "metadata": {
        "colab": {
          "base_uri": "https://localhost:8080/"
        },
        "id": "qizoYCtWm_d1",
        "outputId": "76496aef-4285-44a7-8b9b-cd03db688758"
      },
      "execution_count": null,
      "outputs": [
        {
          "output_type": "stream",
          "name": "stdout",
          "text": [
            "madam\n",
            "palindrome\n",
            "hellow\n",
            "Not a palindrome\n",
            "nursesrun\n",
            "palindrome\n"
          ]
        }
      ]
    },
    {
      "cell_type": "code",
      "source": [
        "#task-5\n",
        "def time(x):\n",
        "  a=x//365\n",
        "  b=x-a*365\n",
        "  c=b//30\n",
        "  d=b-c*30\n",
        "  print(f'{a}years, {c}months and {d}days')\n",
        "time(4320)\n",
        "time(4000)"
      ],
      "metadata": {
        "colab": {
          "base_uri": "https://localhost:8080/"
        },
        "id": "-sJxAoJDomYl",
        "outputId": "497e2a85-f6c0-46b6-dfce-de7614b43d3b"
      },
      "execution_count": null,
      "outputs": [
        {
          "output_type": "stream",
          "name": "stdout",
          "text": [
            "11years, 10months and 5days\n",
            "10years, 11months and 20days\n",
            "27years, 4months and 25days\n"
          ]
        }
      ]
    },
    {
      "cell_type": "code",
      "source": [
        "#task-6\n",
        "def letter(a):\n",
        "  c=''\n",
        "  for i in range(len(a)):\n",
        "    if i==0:\n",
        "      c+=a[i].upper()\n",
        "    elif a[i-2]==('.')or a[i-2]==('!') or a[i-2]==('?'):\n",
        "       c+=a[i].upper()\n",
        "    elif (a[i-1]==' ') and (a[i]=='i') and (a[i+1]==' '):\n",
        "      c+=a[i].upper()\n",
        "    else:\n",
        "      c+=a[i]\n",
        "  print(c)\n",
        "letter(\"my favourite animal is a dog, a dog has sharp teeth so that it can eat flesh very easily. do you know my pet dog\\'s name? i love my pet very much.\")"
      ],
      "metadata": {
        "colab": {
          "base_uri": "https://localhost:8080/"
        },
        "id": "5XjcvGRPg_Q9",
        "outputId": "a77113cf-8142-4030-a4ba-74bbdcfd598e"
      },
      "execution_count": null,
      "outputs": [
        {
          "output_type": "stream",
          "name": "stdout",
          "text": [
            "MY favourite animal is a dog, a dog has sharp teeth so that it can eat flesh very easily. Do you know my pet dog's name? I love my pet very much.\n"
          ]
        }
      ]
    },
    {
      "cell_type": "code",
      "source": [
        "#homework\n",
        "#task-1\n",
        "def hospital_fee(**d):\n",
        "  f=0\n",
        "  p=''\n",
        "  for j in d.values():\n",
        "    if  j>f:\n",
        "      f=j\n",
        "  for i,j in d.items():\n",
        "    if j==f:\n",
        "      p+=i+ ', '\n",
        "  p=p[:-2]\n",
        "  return f,p\n",
        "max_amount, max_payer = hospital_fee(Neymar =1000, Dembele = 600, Reus = 500, Bale = 1000)\n",
        "print(f'Highest fee was {max_amount} tk which was paid by {max_payer} .')"
      ],
      "metadata": {
        "id": "JEUbbJdlnj7f",
        "colab": {
          "base_uri": "https://localhost:8080/"
        },
        "outputId": "92faefc2-923b-42d5-edab-32d8f74d420b"
      },
      "execution_count": null,
      "outputs": [
        {
          "output_type": "stream",
          "name": "stdout",
          "text": [
            "Highest fee was 1000 tk which was paid by Neymar, Bale .\n"
          ]
        }
      ]
    },
    {
      "cell_type": "code",
      "source": [
        "#task-2\n",
        "def is_james_bond(a):\n",
        "  v=''\n",
        "  for i in a:\n",
        "    if i==0:\n",
        "      v+='0'\n",
        "    if i==7:\n",
        "      v+='7'\n",
        "    if v=='007':\n",
        "      break\n",
        "  if v=='007':\n",
        "    print('True')\n",
        "  else:\n",
        "    print('Flase')\n",
        "is_james_bond( [1, 2, 4, 0, 0, 7, 5] )\n",
        "is_james_bond( [1, 7, 2, 0, 4, 5, 0] )\n",
        "is_james_bond( [1, 0, 2, 0, 4, 7, 5] )"
      ],
      "metadata": {
        "colab": {
          "base_uri": "https://localhost:8080/"
        },
        "id": "BapeyfC8VJoa",
        "outputId": "93f0aa00-8c85-4ff1-c381-7aafec036cf5"
      },
      "execution_count": null,
      "outputs": [
        {
          "output_type": "stream",
          "name": "stdout",
          "text": [
            "True\n",
            "Flase\n",
            "True\n"
          ]
        }
      ]
    },
    {
      "cell_type": "code",
      "source": [
        "#task-3\n",
        "def assign_students_to_sections(*a):\n",
        "  d1={0:'A',1:'B',2:'C',3:'D',4:'E'}\n",
        "  d2={'A':[],'B':[],'C':[],'D':[],'E':[]}\n",
        "  for i in range(len(a)):\n",
        "    s=0\n",
        "    if i==0:\n",
        "      continue\n",
        "    for j in range(len(a[i])):\n",
        "      s+=ord(a[i][j])\n",
        "    n=s%5\n",
        "    d2[d1[n]].append(a[i])\n",
        "  print(d2)\n",
        "assign_students_to_sections ('ABCDE', 'Alice','Bob', 'Charlie', 'David', 'Eve', 'Frank', 'Grace')"
      ],
      "metadata": {
        "id": "O_7GzQPfZJaM",
        "colab": {
          "base_uri": "https://localhost:8080/"
        },
        "outputId": "6939fa56-8273-433c-889d-2efc56fb99c6"
      },
      "execution_count": null,
      "outputs": [
        {
          "output_type": "stream",
          "name": "stdout",
          "text": [
            "{'A': ['Bob'], 'B': ['Charlie'], 'C': ['Grace'], 'D': ['Alice', 'David', 'Eve', 'Frank'], 'E': []}\n"
          ]
        }
      ]
    },
    {
      "cell_type": "code",
      "source": [
        "#task-4\n",
        "def username_generator(f,l,d,m=''):\n",
        "  d=str(d)\n",
        "  u=f[0:3].upper()+m+l[-3:]+'_'+d[-4:]\n",
        "  return u\n",
        "first_name, middle_name, last_name, student_id= input (\"First Name:\"), input(\"Middle Name:\"), input (\"Last Name:\"), int (input (\"Student ID:\"))\n",
        "print(username_generator(first_name, last_name, student_id, middle_name))"
      ],
      "metadata": {
        "colab": {
          "base_uri": "https://localhost:8080/"
        },
        "id": "D89BeO4aBrtI",
        "outputId": "ae6fe5d0-ba36-41d7-b151-5d42b2380cad"
      },
      "execution_count": null,
      "outputs": [
        {
          "output_type": "stream",
          "name": "stdout",
          "text": [
            "First Name:Shakib\n",
            "Middle Name:Bin\n",
            "Last Name:Hasan\n",
            "Student ID:17305165\n",
            "SHABinsan_5165\n"
          ]
        }
      ]
    },
    {
      "cell_type": "code",
      "source": [
        "#task-5\n",
        "def key_generator(*a):\n",
        "  a=list(a)\n",
        "  d={'Encrypted Keys':[]}\n",
        "  for j in range(len(a)):\n",
        "   v1=''\n",
        "   for i in range(len(a[j])):\n",
        "    v=a[j][0]+a[j][len(a[j])-2:0:-1]+a[j][len(a[j])-1]\n",
        "    if i==0:\n",
        "      v1+=v[i].lower()\n",
        "    elif i==len(a[j])-1:\n",
        "      v1+=v[i].upper()\n",
        "    else:\n",
        "      v1+=str(ord(v[i]))\n",
        "   d['Encrypted Keys'].append(v1)\n",
        "  return d\n",
        "key_list =key_generator (\"Alex\",\"Bob\", \"Trudy\")\n",
        "print(key_list)"
      ],
      "metadata": {
        "colab": {
          "base_uri": "https://localhost:8080/"
        },
        "id": "t0QOcDNduXAU",
        "outputId": "3169fbf7-c992-4baf-e31a-218ff2f7aeed"
      },
      "execution_count": null,
      "outputs": [
        {
          "output_type": "stream",
          "name": "stdout",
          "text": [
            "{'Encrypted Keys': ['a101108X', 'b111B', 't100117114Y']}\n"
          ]
        }
      ]
    },
    {
      "cell_type": "code",
      "source": [
        "#task-6\n",
        "import random\n",
        "def  playRockPaperScissor(rounds):\n",
        "  u=0\n",
        "  c=0\n",
        "  for i in range(rounds):\n",
        "    n=input()\n",
        "    x=random.choice(['rock','paper','scissor'])\n",
        "    if (n=='rock'and x=='scissor')or(n=='paper'and x=='rock')or(n=='scissor'and x=='paper'):\n",
        "      print(f'computer: {x}')\n",
        "      u+=1\n",
        "    elif n==x:\n",
        "      print(f'computer: {x}')\n",
        "    else:\n",
        "      print(f'computer: {x}')\n",
        "      c+=1\n",
        "  print(f\"Your Score: {u}\")\n",
        "  print(f\"Computer's Score: {c}\")\n",
        "  if u>c:\n",
        "    print('You have won the game!')\n",
        "    w='You have won the game!'\n",
        "  elif u<c:\n",
        "    print('Computer has won the game!')\n",
        "    w='Computer has won the game!'\n",
        "  else:\n",
        "    print('tie')\n",
        "    w='tie'\n",
        "  return u,c,w\n",
        "playRockPaperScissor(int(input()))"
      ],
      "metadata": {
        "colab": {
          "base_uri": "https://localhost:8080/"
        },
        "id": "GTfbyq0kfClD",
        "outputId": "b43653f6-5959-49f7-8436-dd74195078ca"
      },
      "execution_count": null,
      "outputs": [
        {
          "output_type": "stream",
          "name": "stdout",
          "text": [
            "3\n",
            "rock\n",
            "computer: scissor\n",
            "paper\n",
            "computer: scissor\n",
            "scissor\n",
            "computer: paper\n",
            "Your Score: 2\n",
            "Computer's Score: 1\n",
            "You have won the game!\n"
          ]
        },
        {
          "output_type": "execute_result",
          "data": {
            "text/plain": [
              "(2, 1, 'You have won the game!')"
            ]
          },
          "metadata": {},
          "execution_count": 96
        }
      ]
    }
  ]
}