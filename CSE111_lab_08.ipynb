{
  "nbformat": 4,
  "nbformat_minor": 0,
  "metadata": {
    "colab": {
      "provenance": []
    },
    "kernelspec": {
      "name": "python3",
      "display_name": "Python 3"
    },
    "language_info": {
      "name": "python"
    }
  },
  "cells": [
    {
      "cell_type": "code",
      "execution_count": null,
      "metadata": {
        "id": "Zg753JkXVhOW",
        "colab": {
          "base_uri": "https://localhost:8080/"
        },
        "outputId": "332f31f9-7b1c-477d-a376-5c24b1f31337"
      },
      "outputs": [
        {
          "output_type": "stream",
          "name": "stdout",
          "text": [
            "ID: 1\n",
            "Name: Samin\n",
            "Department: CSE\n",
            "Age: 21\n",
            "CGPA: 3.91\n",
            "-----------------------\n",
            "ID: 2\n",
            "Name: Fahim\n",
            "Department: ECE\n",
            "Age: 21\n",
            "CGPA: 3.85\n",
            "-----------------------\n",
            "ID: 3\n",
            "Name: Tahura\n",
            "Department: EEE\n",
            "Age: 22\n",
            "CGPA: 3.01\n",
            "-----------------------\n",
            "ID: 4\n",
            "Name: Sumaiya\n",
            "Department: BBA\n",
            "Age: 23\n",
            "CGPA: 3.96\n"
          ]
        }
      ],
      "source": [
        "#task-1\n",
        "class Student():\n",
        "  id=0\n",
        "  def __init__(self,n,d,a,g):\n",
        "    self.n=n\n",
        "    self.d=d\n",
        "    self.a=a\n",
        "    self.g=g\n",
        "    Student.id+=1\n",
        "    self.id=Student.id\n",
        "  def showDetails(self):\n",
        "    print(f'ID: {self.id}')\n",
        "    print(f'Name: {self.n}')\n",
        "    print(f'Department: {self.d}')\n",
        "    print(f'Age: {self.a}')\n",
        "    print(f'CGPA: {self.g}')\n",
        "  @classmethod\n",
        "  def from_String(cls,s):\n",
        "    n,d,a,g=s.split('-')\n",
        "    obj=Student(n,d,a,g)\n",
        "    return obj\n",
        "\n",
        "\n",
        "\n",
        "\n",
        "\n",
        "\n",
        "s1 = Student(\"Samin\", \"CSE\", 21, 3.91)\n",
        "s1.showDetails()\n",
        "print(\"-----------------------\")\n",
        "s2 = Student(\"Fahim\", \"ECE\", 21, 3.85)\n",
        "s2.showDetails()\n",
        "print(\"-----------------------\")\n",
        "s3 = Student(\"Tahura\", \"EEE\", 22, 3.01)\n",
        "s3.showDetails()\n",
        "print(\"-----------------------\")\n",
        "s4 = Student.from_String(\"Sumaiya-BBA-23-3.96\")\n",
        "s4.showDetails()\n"
      ]
    },
    {
      "cell_type": "code",
      "source": [
        "#task-2\n",
        "class Passenger():\n",
        "  count=0\n",
        "  def __init__(self,n):\n",
        "    self.n=n\n",
        "    self.w=0\n",
        "    Passenger.count+=1\n",
        "  def set_bag_weight(self,w):\n",
        "    self.w=w\n",
        "  def printDetail(self):\n",
        "    print(f'Name: {self.n}')\n",
        "    if self.w<=20:\n",
        "      print('Bus Fare: 450 taka')\n",
        "    elif 20<=self.w<=50:\n",
        "      print('Bus Fare: 500 taka')\n",
        "    else:\n",
        "      print('Bus Fare: 550 taka')\n",
        "\n",
        "\n",
        "print(\"Total Passenger:\", Passenger.count)\n",
        "p1 = Passenger(\"Jack\")\n",
        "p1.set_bag_weight(90)\n",
        "p2 = Passenger(\"Carol\")\n",
        "p2.set_bag_weight(10)\n",
        "p3 = Passenger(\"Mike\")\n",
        "p3.set_bag_weight(25)\n",
        "print(\"=========================\")\n",
        "p1.printDetail()\n",
        "print(\"=========================\")\n",
        "p2.printDetail()\n",
        "print(\"=========================\")\n",
        "p3.printDetail()\n",
        "print(\"=========================\")\n",
        "print(\"Total Passenger:\", Passenger.count)"
      ],
      "metadata": {
        "colab": {
          "base_uri": "https://localhost:8080/"
        },
        "id": "amk6t3oRtiJE",
        "outputId": "af2fef2f-72cc-4459-92db-fe9de6578c94"
      },
      "execution_count": null,
      "outputs": [
        {
          "output_type": "stream",
          "name": "stdout",
          "text": [
            "Total Passenger: 0\n",
            "=========================\n",
            "Name: Jack\n",
            "Bus Fare: 550 taka\n",
            "=========================\n",
            "Name: Carol\n",
            "Bus Fare: 450 taka\n",
            "=========================\n",
            "Name: Mike\n",
            "Bus Fare: 500 taka\n",
            "=========================\n",
            "Total Passenger: 3\n"
          ]
        }
      ]
    },
    {
      "cell_type": "code",
      "source": [
        "#task-3\n",
        "class Travel():\n",
        "  count=0\n",
        "  def __init__(self,s,d):\n",
        "    self.s=s\n",
        "    self.d=d\n",
        "    self.t='1'\n",
        "    Travel.count+=1\n",
        "  def display_travel_info(self):\n",
        "    a=f'Source: {self.s}\\n'+f'Destination:{self.d}\\n'+f'Flight Time:{self.t}:00'\n",
        "    return a\n",
        "  def set_time(self,t):\n",
        "    self.t= str(t)\n",
        "  def set_destination(self,d):\n",
        "    self.d=d\n",
        "  def set_source(self,s):\n",
        "    self.s=s\n",
        "\n",
        "\n",
        "\n",
        "\n",
        "\n",
        "print(\"No. of Traveller =\", Travel.count)\n",
        "print(\"=======================\")\n",
        "t1 = Travel(\"Dhaka\",\"India\")\n",
        "print(t1.display_travel_info())\n",
        "print(\"=======================\")\n",
        "t2 = Travel(\"Kuala Lampur\",\"Dhaka\")\n",
        "t2.set_time(23)\n",
        "print(t2.display_travel_info())\n",
        "print(\"=======================\")\n",
        "t3 = Travel(\"Dhaka\",\"New_Zealand\")\n",
        "t3.set_time(15)\n",
        "t3.set_destination(\"Germany\")\n",
        "print(t3.display_travel_info())\n",
        "print(\"=======================\")\n",
        "t4 = Travel(\"Dhaka\",\"India\")\n",
        "t4.set_time(9)\n",
        "t4.set_source(\"Malaysia\")\n",
        "t4.set_destination(\"Canada\")\n",
        "print(t4.display_travel_info())\n",
        "print(\"=======================\")\n",
        "print(\"No. of Traveller =\", Travel.count)"
      ],
      "metadata": {
        "colab": {
          "base_uri": "https://localhost:8080/"
        },
        "id": "uO8xUGC-tjDs",
        "outputId": "10b22170-94e2-4241-e550-bb71509f44a3"
      },
      "execution_count": null,
      "outputs": [
        {
          "output_type": "stream",
          "name": "stdout",
          "text": [
            "No. of Traveller = 0\n",
            "=======================\n",
            "Source: Dhaka\n",
            "Destination:India\n",
            "Flight Time:1:00\n",
            "=======================\n",
            "Source: Kuala Lampur\n",
            "Destination:Dhaka\n",
            "Flight Time:23:00\n",
            "=======================\n",
            "Source: Dhaka\n",
            "Destination:Germany\n",
            "Flight Time:15:00\n",
            "=======================\n",
            "Source: Malaysia\n",
            "Destination:Canada\n",
            "Flight Time:9:00\n",
            "=======================\n",
            "No. of Traveller = 4\n"
          ]
        }
      ]
    },
    {
      "cell_type": "code",
      "source": [
        "#task-4\n",
        "class Student():\n",
        "  ts=0\n",
        "  bs=0\n",
        "  os=0\n",
        "  def __init__(self,n,d,ins='BRAC University'):\n",
        "    self.n=n\n",
        "    self.d=d\n",
        "    self.ins=ins\n",
        "    Student.ts+=1\n",
        "    if self.ins=='BRAC University':\n",
        "      Student.bs+=1\n",
        "    else:\n",
        "      Student.os+=1\n",
        "  def individualDetail(self):\n",
        "    print(f'Name: {self.n}')\n",
        "    print(f'Department: {self.d}')\n",
        "    print(f'Institution: {self.ins}')\n",
        "  @classmethod\n",
        "  def printDetails(cls):\n",
        "    print(f'Total Student(s): {Student.ts}')\n",
        "    print(f'BRAC University Student(s): {Student.bs}')\n",
        "    print(f'Other Institution Student(s): {Student.os}')\n",
        "  @classmethod\n",
        "  def createStudent(cls,n,d,ins='BRAC University'):\n",
        "    obj=Student(n,d,ins)\n",
        "    return obj\n",
        "\n",
        "Student.printDetails()\n",
        "print('#########################')\n",
        "\n",
        "mikasa = Student('Mikasa Ackerman', \"CSE\")\n",
        "mikasa.individualDetail()\n",
        "print('------------------------------------------')\n",
        "Student.printDetails()\n",
        "\n",
        "print('========================')\n",
        "\n",
        "harry = Student.createStudent('Harry Potter', \"Defence Against Dark Arts\", \"Hogwarts School\")\n",
        "harry.individualDetail()\n",
        "print('-------------------------------------------')\n",
        "Student.printDetails()\n",
        "\n",
        "print('=========================')\n",
        "\n",
        "levi = Student.createStudent(\"Levi Ackerman\", \"CSE\")\n",
        "levi.individualDetail()\n",
        "print('--------------------------------------------')\n",
        "Student.printDetails()\n"
      ],
      "metadata": {
        "colab": {
          "base_uri": "https://localhost:8080/"
        },
        "id": "SLSrYqNbtj2k",
        "outputId": "60a23fbe-1a42-4b80-ff77-5e1921c4514f"
      },
      "execution_count": null,
      "outputs": [
        {
          "output_type": "stream",
          "name": "stdout",
          "text": [
            "Total Student(s): 0\n",
            "BRAC University Student(s): 0\n",
            "Other Institution Student(s): 0\n",
            "#########################\n",
            "Name: Mikasa Ackerman\n",
            "Department: CSE\n",
            "Institution: BRAC University\n",
            "------------------------------------------\n",
            "Total Student(s): 1\n",
            "BRAC University Student(s): 1\n",
            "Other Institution Student(s): 0\n",
            "========================\n",
            "Name: Harry Potter\n",
            "Department: Defence Against Dark Arts\n",
            "Institution: Hogwarts School\n",
            "-------------------------------------------\n",
            "Total Student(s): 2\n",
            "BRAC University Student(s): 1\n",
            "Other Institution Student(s): 1\n",
            "=========================\n",
            "Name: Levi Ackerman\n",
            "Department: CSE\n",
            "Institution: BRAC University\n",
            "--------------------------------------------\n",
            "Total Student(s): 3\n",
            "BRAC University Student(s): 2\n",
            "Other Institution Student(s): 1\n"
          ]
        }
      ]
    },
    {
      "cell_type": "code",
      "source": [
        "#task-5"
      ],
      "metadata": {
        "id": "T_OixYeqtkis"
      },
      "execution_count": null,
      "outputs": []
    }
  ]
}