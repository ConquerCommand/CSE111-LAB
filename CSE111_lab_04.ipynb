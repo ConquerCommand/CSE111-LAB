{
  "nbformat": 4,
  "nbformat_minor": 0,
  "metadata": {
    "colab": {
      "provenance": []
    },
    "kernelspec": {
      "name": "python3",
      "display_name": "Python 3"
    },
    "language_info": {
      "name": "python"
    }
  },
  "cells": [
    {
      "cell_type": "code",
      "execution_count": null,
      "metadata": {
        "colab": {
          "base_uri": "https://localhost:8080/"
        },
        "id": "JkjGZ5w9_7fc",
        "outputId": "723203d6-a2d0-40c9-b0df-a4c1299a5f30"
      },
      "outputs": [
        {
          "output_type": "stream",
          "name": "stdout",
          "text": [
            "1-------------------------\n",
            "Welcome to ABC Memorial Park \n",
            "2-------------------------\n",
            "Successfully purchased a ticket for Bob!\n",
            "Successfully purchased a ticket for Henry!\n",
            "Successfully purchased a ticket for Alexa!\n",
            "You can't buy more than 3 tickets \n",
            "3-------------------------\n",
            "Amount of tickets: 3 \n",
            "Total price: 250 Taka \n",
            "4-------------------------\n",
            "Welcome to ABC Memorial Park \n",
            "5-------------------------\n",
            "Successfully purchased a ticket for Harry!\n",
            "Successfully purchased a ticket for Tomas!\n",
            "6-------------------------\n",
            "Amount of tickets: 2 \n",
            "Total price: 200 Taka \n"
          ]
        }
      ],
      "source": [
        "#class work\n",
        "#task-1\n",
        "class Customer:\n",
        "  def __init__(self,n=None,a=None):\n",
        "    self.name=n\n",
        "    self.age=a\n",
        "    self.count=0\n",
        "    self.price=0\n",
        "    print('Welcome to ABC Memorial Park ')\n",
        "  def buyTicket(self,n,a):\n",
        "    if self.count<3:\n",
        "      print(f'Successfully purchased a ticket for {n}!')\n",
        "      self.count+=1\n",
        "      if a>10:\n",
        "        self.price+=100\n",
        "      else:\n",
        "        self.price+=50\n",
        "    else:\n",
        "      print(\"You can't buy more than 3 tickets \")\n",
        "  def showDetails(self):\n",
        "    print(f'Amount of tickets: {self.count} ')\n",
        "    print(f'Total price: {self.price} Taka ')\n",
        "\n",
        "\n",
        "\n",
        "print('1-------------------------')\n",
        "customer1 = Customer()\n",
        "print('2-------------------------')\n",
        "customer1.buyTicket('Bob', 23)\n",
        "customer1.buyTicket('Henry', 7)\n",
        "customer1.buyTicket('Alexa', 30)\n",
        "customer1.buyTicket('Jonas', 43)\n",
        "print('3-------------------------')\n",
        "customer1.showDetails()\n",
        "print('4-------------------------')\n",
        "customer2 = Customer()\n",
        "print('5-------------------------')\n",
        "customer2.buyTicket('Harry', 60)\n",
        "customer2.buyTicket('Tomas', 28)\n",
        "print('6-------------------------')\n",
        "customer2.showDetails()\n"
      ]
    },
    {
      "cell_type": "code",
      "source": [
        "#task-2\n",
        "class  Panda():\n",
        "  def __init__(self, n, g, a):\n",
        "    self.name=n\n",
        "    self.gender=g\n",
        "    self.age=a\n",
        "  def sleep(self,t):\n",
        "    self.time=t\n",
        "    if 3<t<5:\n",
        "      x=f'{self.name} sleeps {t} hours daily and should have Mixed Veggies'\n",
        "    elif 6<t<8:\n",
        "      x=f'{self.name} sleeps {t} hours daily and should have Eggplant & Tofu'\n",
        "    elif 9<t<11:\n",
        "      x=f'{self.name} sleeps {t} hours daily and should have Broccoli Chicken'\n",
        "    else:\n",
        "      x=f\"{self.name}'s duration is unknown thus should have only bamboo leaves\"\n",
        "    return x\n",
        "\n",
        "panda1 = Panda(\"Kunfu\", \"Male\", 5)\n",
        "panda2 = Panda(\"Pan Pan\", \"Female\",3)\n",
        "panda3 = Panda(\"Ming Ming\", \"Female\",8)\n",
        "print(\"{} is a {} Panda Bear who is {} years old\".format(panda1.name,panda1.gender,panda1.age))\n",
        "print(\"{} is a {} Panda Bear who is {} years old\".format(panda2.name,panda2.gender,panda2.age))\n",
        "print(\"{} is a {} Panda Bear who is {} years old\".format(panda3.name,panda3.gender,panda3.age))\n",
        "print(\"===========================\")\n",
        "print(panda2.sleep(10))\n",
        "print(panda1.sleep(4))\n",
        "print(panda3.sleep(13))"
      ],
      "metadata": {
        "colab": {
          "base_uri": "https://localhost:8080/"
        },
        "id": "uSl_AGsjN42x",
        "outputId": "ffb1fe29-bfa8-488d-dba6-a2acd4f995fd"
      },
      "execution_count": null,
      "outputs": [
        {
          "output_type": "stream",
          "name": "stdout",
          "text": [
            "Kunfu is a Male Panda Bear who is 5 years old\n",
            "Pan Pan is a Female Panda Bear who is 3 years old\n",
            "Ming Ming is a Female Panda Bear who is 8 years old\n",
            "===========================\n",
            "Pan Pan sleeps 10 hours daily and should have Broccoli Chicken\n",
            "Kunfu sleeps 4 hours daily and should have Mixed Veggies\n",
            "Ming Ming's duration is unknown thus should have only bamboo leaves\n"
          ]
        }
      ]
    },
    {
      "cell_type": "code",
      "source": [
        "#task-3\n",
        "class GreenPhone():\n",
        "  def __init__(self, m, v, c):\n",
        "    self.m=m\n",
        "    self.v=v\n",
        "    self.c=c\n",
        "    self.up=0\n",
        "  def showSpecification(self):\n",
        "    print('Phone Company: GreenPhone')\n",
        "    print(f'Model Name: {self.m} ')\n",
        "    print(f'Android Version: {self.v}')\n",
        "    print(f'Number of Cameras: {self.c}')\n",
        "  def updatePhone(self):\n",
        "    self.up+=1\n",
        "    if (self.m=='A1'and self.up<3)or(self.m=='M11'and self.up<4)or(self.m=='U20'and self.up<5):\n",
        "      self.v+=1\n",
        "      print(f'Your phone Greenphone {self.m} is upgraded to Android Version: {self.v}.')\n",
        "    else:\n",
        "      print(f'Your phone Greenphone {self.m} is already up to date.')\n",
        "\n",
        "\n",
        "print('1=======================')\n",
        "p1 = GreenPhone('A1', 12, 3)\n",
        "p2 = GreenPhone('M11', 12, 4)\n",
        "p3 = GreenPhone('U20', 12, 5)\n",
        "p1.showSpecification()\n",
        "print('2=======================')\n",
        "p2.showSpecification()\n",
        "print('3=======================')\n",
        "p1.updatePhone()\n",
        "print('4=======================')\n",
        "p1.updatePhone()\n",
        "p2.updatePhone()\n",
        "p3.updatePhone()\n",
        "print('5=======================')\n",
        "p1.updatePhone()\n",
        "p2.updatePhone()\n",
        "p3.updatePhone()\n",
        "print('6=======================')\n",
        "p2.updatePhone()\n",
        "p3.updatePhone()\n",
        "print('7=======================')\n",
        "p1.showSpecification()\n",
        "p3.showSpecification()\n"
      ],
      "metadata": {
        "colab": {
          "base_uri": "https://localhost:8080/"
        },
        "id": "ywEGklIljE5L",
        "outputId": "7917dc9f-2935-420d-a6dc-d0309018359e"
      },
      "execution_count": null,
      "outputs": [
        {
          "output_type": "stream",
          "name": "stdout",
          "text": [
            "1=======================\n",
            "Phone Company: GreenPhone\n",
            "Model Name: A1 \n",
            "Android Version: 12\n",
            "Number of Cameras: 3\n",
            "2=======================\n",
            "Phone Company: GreenPhone\n",
            "Model Name: M11 \n",
            "Android Version: 12\n",
            "Number of Cameras: 4\n",
            "3=======================\n",
            "Your phone Greenphone A1 is upgraded to Android Version: 13.\n",
            "4=======================\n",
            "Your phone Greenphone A1 is upgraded to Android Version: 14.\n",
            "Your phone Greenphone M11 is upgraded to Android Version: 13.\n",
            "Your phone Greenphone U20 is upgraded to Android Version: 13.\n",
            "5=======================\n",
            "Your phone Greenphone A1 is already up to date.\n",
            "Your phone Greenphone M11 is upgraded to Android Version: 14.\n",
            "Your phone Greenphone U20 is upgraded to Android Version: 14.\n",
            "6=======================\n",
            "Your phone Greenphone M11 is upgraded to Android Version: 15.\n",
            "Your phone Greenphone U20 is upgraded to Android Version: 15.\n",
            "7=======================\n",
            "Phone Company: GreenPhone\n",
            "Model Name: A1 \n",
            "Android Version: 14\n",
            "Number of Cameras: 3\n",
            "Phone Company: GreenPhone\n",
            "Model Name: U20 \n",
            "Android Version: 15\n",
            "Number of Cameras: 5\n"
          ]
        }
      ]
    },
    {
      "cell_type": "code",
      "source": [
        "#task-4\n",
        "class StudentDatabase():\n",
        "  def __init__(self, n, id):\n",
        "    self.name=n\n",
        "    self.id=id\n",
        "    self.d1={}\n",
        "    self.gpa=0\n",
        "    self.grades={}\n",
        "  def calculateGPA(self, l, s):\n",
        "    li=[]\n",
        "    d2={}\n",
        "    self.sem=s\n",
        "    t=0\n",
        "    for i in l :\n",
        "      c,m=i.split(':')\n",
        "      self.d1[c]=m\n",
        "      li.append(c)\n",
        "      t+=float(m)\n",
        "    self.gpa=round((t/len(l)),2)\n",
        "    d2[tuple(li)]=round((t/len(l)),2)\n",
        "    self.grades[s]=d2\n",
        "  def printDetails(self):\n",
        "    print(f'Name: {self.name}')\n",
        "    print(f'ID:{self.id}')\n",
        "    for i, j in self.grades.items():\n",
        "      print(f'Courses taken in {i}: ')\n",
        "      for k, m in j.items():\n",
        "        print('\\n'.join(k))\n",
        "        print(f'GPA: {m}')\n",
        "\n",
        "# Write your code here\n",
        "s1 = StudentDatabase('Pietro', '10101222')\n",
        "s1.calculateGPA(['CSE230: 4.0', 'CSE220: 4.0', 'MAT110: 4.0'], 'Summer2020')\n",
        "s1.calculateGPA(['CSE250: 3.7', 'CSE330: 4.0'], 'Summer2021')\n",
        "print(f'Grades for {s1.name}\\n{s1.grades}')\n",
        "print('---------------------------------')\n",
        "s1.printDetails()\n",
        "s2 = StudentDatabase('Wanda', '10103332')\n",
        "s2.calculateGPA(['CSE111: 3.7', 'CSE260: 3.7', 'ENG101: 4.0'], 'Summer2022')\n",
        "print('---------------------------------')\n",
        "print(f'Grades for {s2.name}\\n{s2.grades}')\n",
        "print('---------------------------------')\n",
        "s2.printDetails()"
      ],
      "metadata": {
        "colab": {
          "base_uri": "https://localhost:8080/"
        },
        "id": "W9mho7cXq7TG",
        "outputId": "ca890757-a79c-4219-c1e4-4bbda41840b8"
      },
      "execution_count": null,
      "outputs": [
        {
          "output_type": "stream",
          "name": "stdout",
          "text": [
            "Grades for Pietro\n",
            "{'Summer2020': {('CSE230', 'CSE220', 'MAT110'): 4.0}, 'Summer2021': {('CSE250', 'CSE330'): 3.85}}\n",
            "---------------------------------\n",
            "Name: Pietro\n",
            "ID:10101222\n",
            "Courses taken in Summer2020: \n",
            "CSE230\n",
            "CSE220\n",
            "MAT110\n",
            "GPA: 4.0\n",
            "Courses taken in Summer2021: \n",
            "CSE250\n",
            "CSE330\n",
            "GPA: 3.85\n",
            "---------------------------------\n",
            "Grades for Wanda\n",
            "{'Summer2022': {('CSE111', 'CSE260', 'ENG101'): 3.8}}\n",
            "---------------------------------\n",
            "Name: Wanda\n",
            "ID:10103332\n",
            "Courses taken in Summer2022: \n",
            "CSE111\n",
            "CSE260\n",
            "ENG101\n",
            "GPA: 3.8\n"
          ]
        }
      ]
    },
    {
      "cell_type": "code",
      "source": [
        "#task-5\n",
        "class Scope:\n",
        "    def __init__(self):\n",
        "        self.x, self.y = 1, 100\n",
        "    def met1(self):\n",
        "        x = 3\n",
        "        x = self.x + 1\n",
        "        self.y = self.y + self.x + 1\n",
        "        x = self.y + self.met2() + self.y\n",
        "        print(x, self.y)\n",
        "    def met2(self):\n",
        "        y = 0\n",
        "        print(self.x, y)\n",
        "        self.x = self.x + y\n",
        "        self.y = self.y + 200\n",
        "        return self.x + y\n",
        "q2 = Scope()\n",
        "q2.met1()\n",
        "q2.met2()\n",
        "q2.met1()\n",
        "q2.met2()"
      ],
      "metadata": {
        "colab": {
          "base_uri": "https://localhost:8080/"
        },
        "id": "3NTYyOL_xImQ",
        "outputId": "16fe5d04-4f2e-4c39-ee65-a6b0e06aee1c"
      },
      "execution_count": null,
      "outputs": [
        {
          "output_type": "stream",
          "name": "stdout",
          "text": [
            "1 0\n",
            "405 302\n",
            "1 0\n",
            "1 0\n",
            "1209 704\n",
            "1 0\n"
          ]
        },
        {
          "output_type": "execute_result",
          "data": {
            "text/plain": [
              "1"
            ]
          },
          "metadata": {},
          "execution_count": 8
        }
      ]
    },
    {
      "cell_type": "code",
      "source": [
        "#task-6\n",
        "class Test3:\n",
        "    def __init__(self):\n",
        "        self.sum, self.y = 0, 0\n",
        "    def methodA(self):\n",
        "        x, y = 2, 3\n",
        "        msg = [0]\n",
        "        msg[0] = 3\n",
        "        y = self.y + msg[0]\n",
        "        self.methodB(msg, msg[0])\n",
        "        x = self.y + msg[0]\n",
        "        self.sum = x + y + msg[0]\n",
        "        print(x, y, self.sum)\n",
        "    def methodB(self, mg2, mg1):\n",
        "        x = 0\n",
        "        self.y = self.y + mg2[0]\n",
        "        x = x + 33 + mg1\n",
        "        self.sum = self.sum + x + self.y\n",
        "        mg2[0] = self.y + mg1\n",
        "        mg1 = mg1 + x + 2\n",
        "        print(x, self.y, self.sum)\n",
        "t3 = Test3()\n",
        "t3.methodA()\n",
        "t3.methodA()\n",
        "t3.methodA()\n",
        "t3.methodA()"
      ],
      "metadata": {
        "colab": {
          "base_uri": "https://localhost:8080/"
        },
        "id": "d5UvrcGwDMc_",
        "outputId": "f323e8d9-b222-4773-8d26-9cc3ab184dd2"
      },
      "execution_count": null,
      "outputs": [
        {
          "output_type": "stream",
          "name": "stdout",
          "text": [
            "36 3 39\n",
            "9 3 18\n",
            "36 6 60\n",
            "15 6 30\n",
            "36 9 75\n",
            "21 9 42\n",
            "36 12 90\n",
            "27 12 54\n"
          ]
        }
      ]
    },
    {
      "cell_type": "code",
      "source": [
        "#task-7\n",
        "class FinalT6A:\n",
        "    def __init__(self, x, p):\n",
        "        self.temp, self.sum, self.y = 4, 0, 1\n",
        "        self.temp += 1\n",
        "        self.y = self.temp - p\n",
        "        self.sum = self.temp + x\n",
        "        print(x, self.y, self.sum)\n",
        "    def methodA(self):\n",
        "        x = 0\n",
        "        y = 0\n",
        "        y = y + self.y\n",
        "        x = self.y + 2 + self.temp\n",
        "        self.sum = x + y + self.methodB(self.temp, y)\n",
        "        print(x, y, self.sum)\n",
        "    def methodB(self, temp, n):\n",
        "        x = 0\n",
        "        temp += 1\n",
        "        self.y = self.y + temp\n",
        "        x = x + 3 + n\n",
        "        self.sum = self.sum + x + self.y\n",
        "        print(x, self.y, self.sum)\n",
        "        return self.sum\n",
        "q1 = FinalT6A(2,1)\n",
        "q1.methodA()\n",
        "q1.methodA()"
      ],
      "metadata": {
        "colab": {
          "base_uri": "https://localhost:8080/"
        },
        "id": "riyirNZEDBBU",
        "outputId": "531a20c6-1941-438c-ce22-d03853f2d1c8"
      },
      "execution_count": null,
      "outputs": [
        {
          "output_type": "stream",
          "name": "stdout",
          "text": [
            "2 4 7\n",
            "7 10 24\n",
            "11 4 39\n",
            "13 16 68\n",
            "17 10 95\n"
          ]
        }
      ]
    }
  ]
}