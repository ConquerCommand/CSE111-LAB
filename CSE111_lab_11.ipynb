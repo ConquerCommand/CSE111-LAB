{
  "cells": [
    {
      "cell_type": "code",
      "execution_count": null,
      "metadata": {
        "colab": {
          "base_uri": "https://localhost:8080/"
        },
        "id": "lTMevTV60NsR",
        "outputId": "97ea8a07-8657-426f-8e53-ce466cd771d3"
      },
      "outputs": [
        {
          "name": "stdout",
          "output_type": "stream",
          "text": [
            "----Printing Detail----\n",
            "Do not eat the Mango .\n",
            "Mangos are bad for you\n",
            "----Printing Detail----\n",
            "Eat the Jackfruit .\n",
            "Jackfruits are  good for you\n"
          ]
        }
      ],
      "source": [
        "#task-1\n",
        "class Fruit:\n",
        "  def __init__(self, formalin=False, name=''):\n",
        "    self.__formalin = formalin\n",
        "    self.name = name\n",
        "  def getName(self):\n",
        "    return self.name\n",
        "  def hasFormalin(self):\n",
        "    return self.__formalin\n",
        "\n",
        "class testFruit:\n",
        "  def test(self, f):\n",
        "    print('----Printing Detail----')\n",
        "    if f.hasFormalin():\n",
        "      print('Do not eat the',f.getName(),'.')\n",
        "      print(f)\n",
        "    else:\n",
        "      print('Eat the',f.getName(),'.')\n",
        "      print(f)\n",
        "\n",
        "class Mango(Fruit):\n",
        "  def __init__(self):\n",
        "    super().__init__(True, Mango)\n",
        "    self.name='Mango'\n",
        "  def __str__(self):\n",
        "    return 'Mangos are bad for you'\n",
        "\n",
        "class Jackfruit(Fruit):\n",
        "  def __init__(self):\n",
        "    super().__init__(False, Jackfruit)\n",
        "    self.name='Jackfruit'\n",
        "  def __str__(self):\n",
        "    return 'Jackfruits are  good for you'\n",
        "\n",
        "m = Mango()\n",
        "j = Jackfruit()\n",
        "t1 = testFruit()\n",
        "t1.test(m)\n",
        "t1.test(j)\n"
      ]
    },
    {
      "cell_type": "code",
      "execution_count": null,
      "metadata": {
        "id": "P87wkLA284V_"
      },
      "outputs": [],
      "source": [
        "#task-2"
      ]
    },
    {
      "cell_type": "code",
      "execution_count": null,
      "metadata": {
        "id": "mpt273SI2A_R"
      },
      "outputs": [],
      "source": [
        "#task-3"
      ]
    },
    {
      "cell_type": "code",
      "execution_count": null,
      "metadata": {
        "id": "5YGO_YoT2Dgq"
      },
      "outputs": [],
      "source": [
        "#task-4"
      ]
    },
    {
      "cell_type": "markdown",
      "metadata": {
        "id": "KdofJuO_2Fdn"
      },
      "source": [
        "#Homework"
      ]
    },
    {
      "cell_type": "code",
      "execution_count": null,
      "metadata": {
        "colab": {
          "base_uri": "https://localhost:8080/"
        },
        "id": "88829tss2KRw",
        "outputId": "26657e30-d07b-4e49-b02b-ac11d6180ba3"
      },
      "outputs": [
        {
          "name": "stdout",
          "output_type": "stream",
          "text": [
            "1------------------------------------------\n",
            "2------------------------------------------\n",
            "Name: Nawaz Ali, Dept Marketing\n",
            "Employee id: 102, Salary: 30000\n",
            "3------------------------------------------\n",
            "Collect work distribution loads from the HR department.\n",
            "4------------------------------------------\n",
            "Name: Nawaz Ali, Dept Marketing\n",
            "Employee id: 102, Salary: 33000.0\n",
            "5------------------------------------------\n",
            "Name: Nadvi, Dept Human Resource\n",
            "Employee id: 311, Salary: 30000\n",
            "Employee Type: Foreign\n",
            "6------------------------------------------\n",
            "Collect work distribution details from the manager.\n",
            "7------------------------------------------\n",
            "Name: Nadvi, Dept Human Resource\n",
            "Employee id: 311, Salary: 34500.0\n",
            "Employee Type: Foreign\n",
            "8------------------------------------------\n",
            "9------------------------------------------\n",
            "Name: Asif, Dept Sales\n",
            "Employee id: 210, Salary: 15000\n",
            "Employee Type: Part Time\n",
            "10------------------------------------------\n",
            "Collect work distribution loads from the HR department.\n",
            "11------------------------------------------\n",
            "Sadly, there is no increment for the part time employees!!\n",
            "12------------------------------------------\n",
            "Name: Olive, Dept Accounts\n",
            "Employee id: 223, Salary: 15000\n",
            "Employee Type: Part Time\n"
          ]
        }
      ],
      "source": [
        "#task-1\n",
        "class Employee():\n",
        "  def __init__(self,n,id,d):\n",
        "    self.n=n\n",
        "    self.id=id\n",
        "    self.d=d\n",
        "    self.s=30000\n",
        "  def employeeDetails(self):\n",
        "    print(f'Name: {self.n}, Dept {self.d}')\n",
        "    print(f'Employee id: {self.id}, Salary: {self.s}')\n",
        "  def workDistribution(self,d):\n",
        "    print('Collect work distribution loads from the HR department.')\n",
        "  def increment(self):\n",
        "    self.s+=round(self.s*0.1,1)\n",
        "class Foreign_employee(Employee):\n",
        "  def __init__(self,n,id,d):\n",
        "    super().__init__(n,id,d)\n",
        "    self.t='Foreign'\n",
        "  def employeeDetails(self):\n",
        "    super().employeeDetails()\n",
        "    print(f'Employee Type: {self.t}')\n",
        "  def workDistribution(self,d):\n",
        "    print('Collect work distribution details from the manager.')\n",
        "  def increment(self):\n",
        "    self.s+=round(self.s*0.15,1)\n",
        "\n",
        "class Part_time_employee(Employee):\n",
        "  def __init__(self,n,id,d):\n",
        "    super().__init__(n,id,d)\n",
        "    self.s=15000\n",
        "    self.t='Part Time'\n",
        "  def employeeDetails(self):\n",
        "    super().employeeDetails()\n",
        "    print(f'Employee Type: {self.t}')\n",
        "  def workDistribution(self,d):\n",
        "    super().workDistribution(d)\n",
        "  def increment(self):\n",
        "    print('Sadly, there is no increment for the part time employees!!')\n",
        "\n",
        "\n",
        "print(\"1------------------------------------------\")\n",
        "emp1=Employee(\"Nawaz Ali\", 102, \"Marketing\")\n",
        "print(\"2------------------------------------------\")\n",
        "emp1.employeeDetails()\n",
        "print(\"3------------------------------------------\")\n",
        "emp1.workDistribution(\"Marketing\")\n",
        "print(\"4------------------------------------------\")\n",
        "emp1.increment()\n",
        "emp1.employeeDetails()\n",
        "print(\"5------------------------------------------\")\n",
        "f_emp=Foreign_employee(\"Nadvi\", 311, \"Human Resource\")\n",
        "f_emp.employeeDetails()\n",
        "print(\"6------------------------------------------\")\n",
        "f_emp.workDistribution(\"Human Resource\")\n",
        "print(\"7------------------------------------------\")\n",
        "f_emp.increment()\n",
        "f_emp.employeeDetails()\n",
        "print(\"8------------------------------------------\")\n",
        "p1_emp=Part_time_employee(\"Asif\", 210, \"Sales\")\n",
        "p2_emp=Part_time_employee(\"Olive\", 223, \"Accounts\")\n",
        "print(\"9------------------------------------------\")\n",
        "p1_emp.employeeDetails()\n",
        "print(\"10------------------------------------------\")\n",
        "p1_emp.workDistribution(\"Sales\")\n",
        "print(\"11------------------------------------------\")\n",
        "p2_emp.increment()\n",
        "print(\"12------------------------------------------\")\n",
        "p2_emp.employeeDetails()"
      ]
    },
    {
      "cell_type": "code",
      "execution_count": null,
      "metadata": {
        "colab": {
          "base_uri": "https://localhost:8080/"
        },
        "id": "KJwyBHOf7bdZ",
        "outputId": "0cd3b926-736a-4116-8422-20c6838c1ad6"
      },
      "outputs": [
        {
          "name": "stdout",
          "output_type": "stream",
          "text": [
            "Marks: 100 Time: 60 minutes Number of Parts: 4\n",
            "----------------------------------\n",
            "Maths , English, Physics, HigherMaths\n",
            "Part 1 - Maths\n",
            "Part 2 - English\n",
            "part 4 - Physics\n",
            "part 5 - HigherMaths\n",
            "\n",
            "==================================\n",
            "Marks: 100 Time: 60 minutes Number of Parts: 5\n",
            "----------------------------------\n",
            "Maths , English, Physics, HigherMaths, Drawing\n",
            "Part 1 - Maths\n",
            "Part 2 - English\n",
            "part 4 - Physics\n",
            "part 5 - HigherMaths\n",
            "part 6 - Drawing\n",
            "\n"
          ]
        }
      ],
      "source": [
        "#task-2\n",
        "class Exam:\n",
        "  def __init__(self,marks):\n",
        "    self.marks = marks\n",
        "    self.time = 60\n",
        "  def examSyllabus(self):\n",
        "    return \"Maths , English\"\n",
        "  def examParts(self):\n",
        "    return \"Part 1 - Maths\\nPart 2 - English\\n\"\n",
        "\n",
        "class ScienceExam(Exam):\n",
        "  def __init__(self,marks,time,*args):\n",
        "    super().__init__(marks)\n",
        "    self.a=args\n",
        "    self.s=''\n",
        "    self.p=''\n",
        "    c=2\n",
        "    for i in args:\n",
        "      self.s+=str(i)+', '\n",
        "      c+=1\n",
        "      self.p+= f'part {c+1} - {i}\\n'\n",
        "\n",
        "  def __str__(self):\n",
        "    return f'Marks: {self.marks} Time: {self.time} minutes Number of Parts: {2+len(self.a)}'\n",
        "\n",
        "  def examSyllabus(self):\n",
        "    return super().examSyllabus() +', '+ self.s[:-2]\n",
        "\n",
        "  def examParts(self):\n",
        "    return super().examParts() + self.p\n",
        "\n",
        "\n",
        "\n",
        "engineering = ScienceExam(100,90,\"Physics\",\"HigherMaths\")\n",
        "print(engineering)\n",
        "print('----------------------------------')\n",
        "print(engineering.examSyllabus())\n",
        "print(engineering.examParts())\n",
        "print('==================================')\n",
        "architecture = ScienceExam(100,120,\"Physics\",\"HigherMaths\",\"Drawing\")\n",
        "print(architecture)\n",
        "print('----------------------------------')\n",
        "print(architecture.examSyllabus())\n",
        "print(architecture.examParts())"
      ]
    },
    {
      "cell_type": "code",
      "execution_count": null,
      "metadata": {
        "colab": {
          "base_uri": "https://localhost:8080/"
        },
        "id": "4pM3WOLc7hDk",
        "outputId": "440912cf-e1e4-4c1b-b165-ea81804a3f8a"
      },
      "outputs": [
        {
          "name": "stdout",
          "output_type": "stream",
          "text": [
            "\n",
            "------------Basic Info:--------------\n",
            "Name: Default, HP: 0, Weakness: None\n",
            "Main type: Unknown\n",
            "Basic move: Quick Attack\n",
            "\n",
            "------------Pokemon 1 Info:-------------\n",
            "Name: Charmander, HP: 39, Weakness: Water\n",
            "Main type: Fire\n",
            "Basic move: Quick Attack\n",
            "\n",
            "------------Pokemon 2 Info:-------------\n",
            "Name: Charizard, HP: 78, Weakness: Water\n",
            "Main type: Fire, Secondary type: Flying\n",
            "Basic move: Quick Attack\n",
            "Other move: Fire Spin, Fire Blaze\n"
          ]
        }
      ],
      "source": [
        "#task-3\n",
        "\n",
        "class PokemonBasic():\n",
        "  def __init__(self, name = 'Default', hp = 0, weakness = 'None', type = 'Unknown'):\n",
        "    self.name = name\n",
        "    self.hit_point = hp\n",
        "    self.weakness = weakness\n",
        "    self.type = type\n",
        "  def get_type(self):\n",
        "    return 'Main type: ' + self.type\n",
        "  def get_move(self):\n",
        "    return 'Basic move: ' + 'Quick Attack'\n",
        "  def __str__(self):\n",
        "    return \"Name: \" + self.name + \", HP: \" + str(self.hit_point) + \", Weakness: \" + self.weakness\n",
        "\n",
        "class PokemonExtra(PokemonBasic):\n",
        "  def __init__(self,n,hp,w,mt,st='None',om='None'):\n",
        "    super().__init__(n,hp,w,mt)\n",
        "    self.st=st\n",
        "    self.om=om\n",
        "  def get_type(self):\n",
        "    if self.st!='None':\n",
        "      return super().get_type() + ', Secondary type: ' + self.st\n",
        "    return super().get_type()\n",
        "  def get_move(self):\n",
        "    bm=super().get_move()\n",
        "    om=''\n",
        "    if self.om!='None':\n",
        "      for i in self.om:\n",
        "        om+=i+', '\n",
        "      return bm + '\\nOther move: ' + om[:-2]\n",
        "    return bm\n",
        "  def __str__(self):\n",
        "    return super().__str__()\n",
        "\n",
        "print('\\n------------Basic Info:--------------')\n",
        "pk = PokemonBasic()\n",
        "print(pk)\n",
        "print(pk.get_type())\n",
        "print(pk.get_move())\n",
        "print('\\n------------Pokemon 1 Info:-------------')\n",
        "charmander = PokemonExtra('Charmander', 39, 'Water','Fire')\n",
        "print(charmander)\n",
        "print(charmander.get_type())\n",
        "print(charmander.get_move())\n",
        "print('\\n------------Pokemon 2 Info:-------------')\n",
        "charizard = PokemonExtra('Charizard', 78, 'Water','Fire', 'Flying', ('Fire Spin', 'Fire Blaze'))\n",
        "print(charizard)\n",
        "print(charizard.get_type())\n",
        "print(charizard.get_move())"
      ]
    },
    {
      "cell_type": "code",
      "execution_count": null,
      "metadata": {
        "colab": {
          "base_uri": "https://localhost:8080/"
        },
        "id": "k-sHkdQvFWTj",
        "outputId": "8b5b7450-22a9-410d-990f-d57474fede51"
      },
      "outputs": [
        {
          "name": "stdout",
          "output_type": "stream",
          "text": [
            "(1)**********************************\n",
            "Flavor: ChocolateCake, Weight: Moderate sugar gm \n",
            "Sweetness: Moderate sugar, Cream Type: Whipped Cream\n",
            "Price: 600.0 Taka\n",
            "(1.1)**********************************\n",
            "{'Chocolate 500 gm': 1, 'Vanilla 800 gm': 1}\n",
            "(2)**********************************\n",
            "Flavor: VanillaCake, Weight: Zero gm \n",
            "Sweetness: Zero, Cream Type: Butter Cream\n",
            "Price: 960.0 Taka\n",
            "(3)**********************************\n",
            "Thanks for your valuable feedback!\n",
            "Thanks for your valuable feedback!\n",
            "(4)**********************************\n",
            "{'Chocolate Cake': ['Yummy']}\n",
            "(5)**********************************\n",
            "Flavor: Red velvetCheese Cake, Weight: Moderate sugar gm \n",
            "Sweetness: Moderate sugar, Cream Type: Whipped Cream\n",
            "Cake Type:baked, Price: 1050.0 Taka\n",
            "(6)**********************************\n",
            "Sorry! No customization available for cheese cakes.\n",
            "(7)**********************************\n",
            "Flavor: Blue BerryCheese Cake, Weight: Moderate sugar gm \n",
            "Sweetness: Moderate sugar, Cream Type: Whipped Cream\n",
            "Cake Type:NoBake, Price: 1350.0 Taka\n",
            "(8)**********************************\n",
            "{'Chocolate 500 gm': 1, 'Vanilla 800 gm': 1, 'Red velvet 700 gm': 1, 'Blue Berry 900 gm': 1}\n",
            "(9)**********************************\n",
            "Thanks for your valuable feedback!\n",
            "Thanks for your valuable feedback!\n",
            "You will get 10% discount for your next purchase!\n",
            "Thanks for your valuable feedback!\n",
            "Thanks for your valuable feedback!\n",
            "You will get 10% discount for your next purchase!\n",
            "(10)**********************************\n",
            "{'Chocolate Cake': ['Yummy'], 'Red velvet Cheese Cake': ['Average'], 'Blue Berry Cheese Cake': ['Liked it']}\n"
          ]
        }
      ],
      "source": [
        "#task-4\n",
        "class Cakes():\n",
        "  order_list={}\n",
        "  dic2={}\n",
        "  def __init__(self,f,w):\n",
        "    self.f=f + 'Cake'\n",
        "    self.w=w\n",
        "    self.s='Moderate sugar'\n",
        "    self.ct='Whipped Cream'\n",
        "    self.p=w*(1200/1000)\n",
        "    Cakes.order_list[f'{str(f)} {str(w)} gm']=1\n",
        "  def cake_details(self):\n",
        "    print(f'Flavor: {self.f}, Weight: {self.s} gm ')\n",
        "    print(f'Sweetness: {self.s}, Cream Type: {self.ct}')\n",
        "    print(f'Price: {self.p} Taka')\n",
        "  def add_customization(self,s,ct):\n",
        "    self.s=s\n",
        "    self.ct=ct\n",
        "  @classmethod\n",
        "  def give_feedbacks(cal,c,f):\n",
        "    print('Thanks for your valuable feedback!')\n",
        "    if c not in Cakes.order_list:\n",
        "      Cakes.dic2[c]=[f]\n",
        "    else:\n",
        "      Cakes.dic2[c]=append(f)\n",
        "  @classmethod\n",
        "  def show_feedbacks(cal):\n",
        "    print(Cakes.dic2)\n",
        "class Cheese_Cakes(Cakes):\n",
        "  def __init__(self,f,w,cat='baked'):\n",
        "    super().__init__(f,w)\n",
        "    self.f=f +'Cheese Cake'\n",
        "    self.cat=cat\n",
        "    self.p=w*(1500/1000)\n",
        "  def add_customization(self,s='None',ct='None'):\n",
        "    if s!='None' or ct!='None':\n",
        "      super().add_customization()\n",
        "    else:\n",
        "      print('Sorry! No customization available for cheese cakes.')\n",
        "  def cake_details(self):\n",
        "    print(f'Flavor: {self.f}, Weight: {self.s} gm ')\n",
        "    print(f'Sweetness: {self.s}, Cream Type: {self.ct}')\n",
        "    print(f'Cake Type:{self.cat}, Price: {self.p} Taka')\n",
        "  @classmethod\n",
        "  def give_feedbacks(cal,c,f):\n",
        "    super().give_feedbacks(c,f)\n",
        "    print('Thanks for your valuable feedback!')\n",
        "    print('You will get 10% discount for your next purchase!')\n",
        "\n",
        "\n",
        "\n",
        "\n",
        "\n",
        "\n",
        "\n",
        "\n",
        "\n",
        "\n",
        "\n",
        "order_1=Cakes(\"Chocolate\",500)\n",
        "order_2=Cakes(\"Vanilla\",800)\n",
        "print(\"(1)**********************************\")\n",
        "order_1.cake_details()\n",
        "print(\"(1.1)**********************************\")\n",
        "print(Cakes.order_list)\n",
        "print(\"(2)**********************************\")\n",
        "order_2.add_customization(\"Zero\",\"Butter Cream\")\n",
        "order_2.cake_details()\n",
        "print(\"(3)**********************************\")\n",
        "Cakes.give_feedbacks(\"Chocolate Cake\",\"Very Delicious\")\n",
        "Cakes.give_feedbacks(\"Chocolate Cake\",\"Yummy\")\n",
        "print(\"(4)**********************************\")\n",
        "Cakes.show_feedbacks()\n",
        "print(\"(5)**********************************\")\n",
        "ch_order1=Cheese_Cakes(\"Red velvet\",700)\n",
        "ch_order1.cake_details()\n",
        "print(\"(6)**********************************\")\n",
        "ch_order1.add_customization()\n",
        "print(\"(7)**********************************\")\n",
        "ch_order2=Cheese_Cakes(\"Blue Berry\",900,\"NoBake\")\n",
        "ch_order2.cake_details()\n",
        "print(\"(8)**********************************\")\n",
        "print(Cakes.order_list)\n",
        "print(\"(9)**********************************\")\n",
        "Cheese_Cakes.give_feedbacks(\"Red velvet Cheese Cake\",\"Average\")\n",
        "Cheese_Cakes.give_feedbacks(\"Blue Berry Cheese Cake\",\"Liked it\")\n",
        "print(\"(10)**********************************\")\n",
        "Cakes.show_feedbacks()"
      ]
    },
    {
      "cell_type": "code",
      "execution_count": null,
      "metadata": {
        "colab": {
          "base_uri": "https://localhost:8080/"
        },
        "id": "K2wPw8LYBVV_",
        "outputId": "ed40aa3a-0240-4950-97ee-f747ca30031c"
      },
      "outputs": [
        {
          "name": "stdout",
          "output_type": "stream",
          "text": [
            "26 -2 5\n",
            "3 -10 4\n",
            "-5 6 5\n",
            "10 -4 5\n"
          ]
        }
      ],
      "source": [
        "class A:\n",
        " temp = 3\n",
        " def __init__(self):\n",
        "  self.sum = 0\n",
        "  self.y = 0\n",
        "  self.y = A.temp - 1\n",
        "  self.sum = A.temp + 2\n",
        "  A.temp -= 2\n",
        "\n",
        " def methodA(self, m, n):\n",
        "  x = 0\n",
        "  n[0] += 1\n",
        "  self.y = self.y + m + A.temp\n",
        "  A.temp += 1\n",
        "  x = x + 2 + n[0]\n",
        "  n[0] = self.sum + 2\n",
        "  print(f\"{x} {self.y} {self.sum}\")\n",
        "\n",
        "class B(A):\n",
        " x = 1\n",
        " def __init__(self, b = None):\n",
        "  super().__init__()\n",
        "  self.sum = 2\n",
        "  if b == None:\n",
        "   self.y = self.temp + 1\n",
        "   B.x = 3 + A.temp + self.x\n",
        "   A.temp -= 2\n",
        "  else:\n",
        "   self.sum = self.sum + self.sum\n",
        "   B.x = b.x + self.x\n",
        " def methodB(self, m, n):\n",
        "  y = [0]\n",
        "  self.y = y[0] + self.y + m\n",
        "  B.x = self.y + 2 + self.temp - n\n",
        "  self.methodA(self.x, y)\n",
        "  self.sum = self.x + y[0] + self.sum\n",
        "  print(f\"{self.x} {y[0]} {self.sum}\")\n",
        "x = [23]\n",
        "a1 = A()\n",
        "b1 = B()\n",
        "b2 = B(b1)\n",
        "a1.methodA(1, x)\n",
        "b2.methodB(3, 2)\n",
        "a1.methodA(1, x)"
      ]
    },
    {
      "cell_type": "code",
      "execution_count": null,
      "metadata": {
        "colab": {
          "base_uri": "https://localhost:8080/",
          "height": 339
        },
        "id": "s7hxQAnTw75t",
        "outputId": "02c1d01a-8053-4e7a-d221-3d6041df35bf"
      },
      "outputs": [
        {
          "ename": "ValueError",
          "evalue": "The function cannot be automatically detected for -beta*x**2 + gamma*y*cos(x).",
          "output_type": "error",
          "traceback": [
            "\u001b[0;31m---------------------------------------------------------------------------\u001b[0m",
            "\u001b[0;31mValueError\u001b[0m                                Traceback (most recent call last)",
            "\u001b[0;32m<ipython-input-2-cd9c5b3782c7>\u001b[0m in \u001b[0;36m<cell line: 6>\u001b[0;34m()\u001b[0m\n\u001b[1;32m      4\u001b[0m \u001b[0mLHS\u001b[0m \u001b[0;34m=\u001b[0m \u001b[0ma\u001b[0m \u001b[0;34m*\u001b[0m \u001b[0mdiff\u001b[0m \u001b[0;34m(\u001b[0m\u001b[0my\u001b[0m \u001b[0;34m,\u001b[0m\u001b[0mx\u001b[0m \u001b[0;34m,\u001b[0m\u001b[0;36m2\u001b[0m\u001b[0;34m)\u001b[0m \u001b[0;34m-\u001b[0m \u001b[0mb\u001b[0m \u001b[0;34m*\u001b[0m\u001b[0mx\u001b[0m \u001b[0;34m**\u001b[0m\u001b[0;36m2\u001b[0m\u001b[0;34m*\u001b[0m \u001b[0mdiff\u001b[0m \u001b[0;34m(\u001b[0m\u001b[0my\u001b[0m\u001b[0;34m)\u001b[0m \u001b[0;34m+\u001b[0m \u001b[0mc\u001b[0m\u001b[0;34m*\u001b[0m\u001b[0mcos\u001b[0m\u001b[0;34m(\u001b[0m\u001b[0mx\u001b[0m\u001b[0;34m)\u001b[0m\u001b[0;34m*\u001b[0m\u001b[0my\u001b[0m\u001b[0;34m\u001b[0m\u001b[0;34m\u001b[0m\u001b[0m\n\u001b[1;32m      5\u001b[0m \u001b[0meqn\u001b[0m \u001b[0;34m=\u001b[0m \u001b[0mEq\u001b[0m\u001b[0;34m(\u001b[0m\u001b[0mLHS\u001b[0m\u001b[0;34m,\u001b[0m\u001b[0;36m0\u001b[0m \u001b[0;34m)\u001b[0m\u001b[0;34m\u001b[0m\u001b[0;34m\u001b[0m\u001b[0m\n\u001b[0;32m----> 6\u001b[0;31m \u001b[0msoln\u001b[0m \u001b[0;34m=\u001b[0m \u001b[0mdsolve\u001b[0m \u001b[0;34m(\u001b[0m \u001b[0meqn\u001b[0m \u001b[0;34m)\u001b[0m\u001b[0;34m\u001b[0m\u001b[0;34m\u001b[0m\u001b[0m\n\u001b[0m\u001b[1;32m      7\u001b[0m \u001b[0mdisplay\u001b[0m \u001b[0;34m(\u001b[0m \u001b[0msoln\u001b[0m \u001b[0;34m)\u001b[0m\u001b[0;34m\u001b[0m\u001b[0;34m\u001b[0m\u001b[0m\n",
            "\u001b[0;32m/usr/local/lib/python3.10/dist-packages/sympy/solvers/ode/ode.py\u001b[0m in \u001b[0;36mdsolve\u001b[0;34m(eq, func, hint, simplify, ics, xi, eta, x0, n, **kwargs)\u001b[0m\n\u001b[1;32m    603\u001b[0m \u001b[0;34m\u001b[0m\u001b[0m\n\u001b[1;32m    604\u001b[0m         \u001b[0;31m# See the docstring of _desolve for more details.\u001b[0m\u001b[0;34m\u001b[0m\u001b[0;34m\u001b[0m\u001b[0m\n\u001b[0;32m--> 605\u001b[0;31m         hints = _desolve(eq, func=func,\n\u001b[0m\u001b[1;32m    606\u001b[0m             \u001b[0mhint\u001b[0m\u001b[0;34m=\u001b[0m\u001b[0mhint\u001b[0m\u001b[0;34m,\u001b[0m \u001b[0msimplify\u001b[0m\u001b[0;34m=\u001b[0m\u001b[0;32mTrue\u001b[0m\u001b[0;34m,\u001b[0m \u001b[0mxi\u001b[0m\u001b[0;34m=\u001b[0m\u001b[0mxi\u001b[0m\u001b[0;34m,\u001b[0m \u001b[0meta\u001b[0m\u001b[0;34m=\u001b[0m\u001b[0meta\u001b[0m\u001b[0;34m,\u001b[0m \u001b[0mtype\u001b[0m\u001b[0;34m=\u001b[0m\u001b[0;34m'ode'\u001b[0m\u001b[0;34m,\u001b[0m \u001b[0mics\u001b[0m\u001b[0;34m=\u001b[0m\u001b[0mics\u001b[0m\u001b[0;34m,\u001b[0m\u001b[0;34m\u001b[0m\u001b[0;34m\u001b[0m\u001b[0m\n\u001b[1;32m    607\u001b[0m             x0=x0, n=n, **kwargs)\n",
            "\u001b[0;32m/usr/local/lib/python3.10/dist-packages/sympy/solvers/deutils.py\u001b[0m in \u001b[0;36m_desolve\u001b[0;34m(eq, func, hint, ics, simplify, prep, **kwargs)\u001b[0m\n\u001b[1;32m    178\u001b[0m     \u001b[0;31m# preprocess the equation and find func if not given\u001b[0m\u001b[0;34m\u001b[0m\u001b[0;34m\u001b[0m\u001b[0m\n\u001b[1;32m    179\u001b[0m     \u001b[0;32mif\u001b[0m \u001b[0mprep\u001b[0m \u001b[0;32mor\u001b[0m \u001b[0mfunc\u001b[0m \u001b[0;32mis\u001b[0m \u001b[0;32mNone\u001b[0m\u001b[0;34m:\u001b[0m\u001b[0;34m\u001b[0m\u001b[0;34m\u001b[0m\u001b[0m\n\u001b[0;32m--> 180\u001b[0;31m         \u001b[0meq\u001b[0m\u001b[0;34m,\u001b[0m \u001b[0mfunc\u001b[0m \u001b[0;34m=\u001b[0m \u001b[0m_preprocess\u001b[0m\u001b[0;34m(\u001b[0m\u001b[0meq\u001b[0m\u001b[0;34m,\u001b[0m \u001b[0mfunc\u001b[0m\u001b[0;34m)\u001b[0m\u001b[0;34m\u001b[0m\u001b[0;34m\u001b[0m\u001b[0m\n\u001b[0m\u001b[1;32m    181\u001b[0m         \u001b[0mprep\u001b[0m \u001b[0;34m=\u001b[0m \u001b[0;32mFalse\u001b[0m\u001b[0;34m\u001b[0m\u001b[0;34m\u001b[0m\u001b[0m\n\u001b[1;32m    182\u001b[0m \u001b[0;34m\u001b[0m\u001b[0m\n",
            "\u001b[0;32m/usr/local/lib/python3.10/dist-packages/sympy/solvers/deutils.py\u001b[0m in \u001b[0;36m_preprocess\u001b[0;34m(expr, func, hint)\u001b[0m\n\u001b[1;32m     80\u001b[0m         \u001b[0mfuncs\u001b[0m \u001b[0;34m=\u001b[0m \u001b[0mset\u001b[0m\u001b[0;34m(\u001b[0m\u001b[0;34m)\u001b[0m\u001b[0;34m.\u001b[0m\u001b[0munion\u001b[0m\u001b[0;34m(\u001b[0m\u001b[0;34m*\u001b[0m\u001b[0;34m[\u001b[0m\u001b[0md\u001b[0m\u001b[0;34m.\u001b[0m\u001b[0matoms\u001b[0m\u001b[0;34m(\u001b[0m\u001b[0mAppliedUndef\u001b[0m\u001b[0;34m)\u001b[0m \u001b[0;32mfor\u001b[0m \u001b[0md\u001b[0m \u001b[0;32min\u001b[0m \u001b[0mderivs\u001b[0m\u001b[0;34m]\u001b[0m\u001b[0;34m)\u001b[0m\u001b[0;34m\u001b[0m\u001b[0;34m\u001b[0m\u001b[0m\n\u001b[1;32m     81\u001b[0m         \u001b[0;32mif\u001b[0m \u001b[0mlen\u001b[0m\u001b[0;34m(\u001b[0m\u001b[0mfuncs\u001b[0m\u001b[0;34m)\u001b[0m \u001b[0;34m!=\u001b[0m \u001b[0;36m1\u001b[0m\u001b[0;34m:\u001b[0m\u001b[0;34m\u001b[0m\u001b[0;34m\u001b[0m\u001b[0m\n\u001b[0;32m---> 82\u001b[0;31m             raise ValueError('The function cannot be '\n\u001b[0m\u001b[1;32m     83\u001b[0m                 'automatically detected for %s.' % expr)\n\u001b[1;32m     84\u001b[0m         \u001b[0mfunc\u001b[0m \u001b[0;34m=\u001b[0m \u001b[0mfuncs\u001b[0m\u001b[0;34m.\u001b[0m\u001b[0mpop\u001b[0m\u001b[0;34m(\u001b[0m\u001b[0;34m)\u001b[0m\u001b[0;34m\u001b[0m\u001b[0;34m\u001b[0m\u001b[0m\n",
            "\u001b[0;31mValueError\u001b[0m: The function cannot be automatically detected for -beta*x**2 + gamma*y*cos(x)."
          ]
        }
      ],
      "source": [
        "from sympy import *\n",
        "a , b , c , x = symbols( ' alpha beta gamma x ')\n",
        "y = symbols('y')\n",
        "LHS = a * diff (y ,x ,2) - b *x **2* diff (y) + c*cos(x)*y\n",
        "eqn = Eq(LHS,0 )\n",
        "soln = dsolve ( eqn )\n",
        "display ( soln )"
      ]
    },
    {
      "cell_type": "code",
      "execution_count": null,
      "metadata": {
        "colab": {
          "base_uri": "https://localhost:8080/",
          "height": 54
        },
        "id": "Uns-kJDxTKFo",
        "outputId": "935d8950-5c38-42b2-c65c-1ad803ae5059"
      },
      "outputs": [
        {
          "data": {
            "text/latex": "$\\displaystyle \\alpha \\frac{d^{2}}{d x^{2}} F{\\left(x \\right)} - \\beta x^{2} \\frac{d}{d x} F{\\left(x \\right)} + \\gamma F{\\left(x \\right)} \\cos{\\left(x \\right)} = 0$",
            "text/plain": [
              "Eq(alpha*Derivative(F(x), (x, 2)) - beta*x**2*Derivative(F(x), x) + gamma*F(x)*cos(x), 0)"
            ]
          },
          "execution_count": 8,
          "metadata": {},
          "output_type": "execute_result"
        }
      ],
      "source": [
        "from sympy import symbols, cos, Function, Eq, dsolve, diff\n",
        "\n",
        "# Define symbols\n",
        "x, y = symbols('x y')\n",
        "a, b, c = symbols('alpha beta gamma')\n",
        "\n",
        "# Define the function\n",
        "F = Function('F')\n",
        "\n",
        "# Define the differential equation\n",
        "LHS = a * diff(F(x), x, 2) - b * x ** 2 * diff(F(x), x) + c * cos(x) * F(x)\n",
        "eqn = Eq(LHS, 0)\n",
        "\n",
        "# Solve the differential equation\n",
        "soln = dsolve(eqn)\n",
        "soln\n",
        "eqn"
      ]
    },
    {
      "cell_type": "code",
      "execution_count": null,
      "metadata": {
        "colab": {
          "background_save": true
        },
        "id": "pJ0VbMUB8EpM",
        "outputId": "a4ebe77d-135b-433c-951c-1d11cb5b23a7"
      },
      "outputs": [
        {
          "data": {
            "text/latex": "$\\displaystyle \\frac{2 \\left(- 4 x \\log{\\left(x \\right)} - 2 x\\right) \\left(- 2 x \\log{\\left(x \\right)} - x\\right) \\left(\\sin{\\left(3 x \\right)} + \\cos{\\left(3 x \\right)}\\right)}{\\left(x^{2} \\log{\\left(x \\right)} + 3\\right)^{3}} + \\frac{4 \\left(- 2 x \\log{\\left(x \\right)} - x\\right) \\left(- 3 \\sin{\\left(3 x \\right)} + 3 \\cos{\\left(3 x \\right)}\\right)}{\\left(x^{2} \\log{\\left(x \\right)} + 3\\right)^{2}} - \\frac{\\left(- 2 x \\log{\\left(x \\right)} - x\\right) \\left(\\sin{\\left(3 x \\right)} + \\cos{\\left(3 x \\right)}\\right)}{\\left(x^{2} \\log{\\left(x \\right)} + 3\\right)^{2}} + \\frac{2 \\left(- 9 \\sin{\\left(3 x \\right)} - 9 \\cos{\\left(3 x \\right)}\\right)}{x^{2} \\log{\\left(x \\right)} + 3} - \\frac{- 3 \\sin{\\left(3 x \\right)} + 3 \\cos{\\left(3 x \\right)}}{x^{2} \\log{\\left(x \\right)} + 3} + \\frac{3 \\left(\\sin{\\left(3 x \\right)} + \\cos{\\left(3 x \\right)}\\right)}{x^{2} \\log{\\left(x \\right)} + 3} + \\frac{2 \\left(- 2 \\log{\\left(x \\right)} - 3\\right) \\left(\\sin{\\left(3 x \\right)} + \\cos{\\left(3 x \\right)}\\right)}{\\left(x^{2} \\log{\\left(x \\right)} + 3\\right)^{2}}$",
            "text/plain": [
              "2*(-4*x*log(x) - 2*x)*(-2*x*log(x) - x)*(sin(3*x) + cos(3*x))/(x**2*log(x) + 3)**3 + 4*(-2*x*log(x) - x)*(-3*sin(3*x) + 3*cos(3*x))/(x**2*log(x) + 3)**2 - (-2*x*log(x) - x)*(sin(3*x) + cos(3*x))/(x**2*log(x) + 3)**2 + 2*(-9*sin(3*x) - 9*cos(3*x))/(x**2*log(x) + 3) - (-3*sin(3*x) + 3*cos(3*x))/(x**2*log(x) + 3) + 3*(sin(3*x) + cos(3*x))/(x**2*log(x) + 3) + 2*(-2*log(x) - 3)*(sin(3*x) + cos(3*x))/(x**2*log(x) + 3)**2"
            ]
          },
          "metadata": {},
          "output_type": "display_data"
        },
        {
          "data": {
            "image/png": "[encoded data removed]",
            "text/plain": [
              "<Figure size 640x480 with 2 Axes>"
            ]
          },
          "metadata": {},
          "output_type": "display_data"
        },
        {
          "data": {
            "text/plain": [
              "<sympy.plotting.plot.PlotGrid at 0x7daeb854a800>"
            ]
          },
          "execution_count": 15,
          "metadata": {},
          "output_type": "execute_result"
        }
      ],
      "source": [
        "import sympy as *\n"
      ]
    }
  ],
  "metadata": {
    "colab": {
      "provenance": []
    },
    "kernelspec": {
      "display_name": "Python 3",
      "name": "python3"
    },
    "language_info": {
      "name": "python"
    }
  },
  "nbformat": 4,
  "nbformat_minor": 0
}