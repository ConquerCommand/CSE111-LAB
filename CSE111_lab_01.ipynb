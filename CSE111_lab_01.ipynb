{
  "nbformat": 4,
  "nbformat_minor": 0,
  "metadata": {
    "colab": {
      "provenance": []
    },
    "kernelspec": {
      "name": "python3",
      "display_name": "Python 3"
    },
    "language_info": {
      "name": "python"
    }
  },
  "cells": [
    {
      "cell_type": "code",
      "execution_count": null,
      "metadata": {
        "colab": {
          "base_uri": "https://localhost:8080/"
        },
        "id": "MJHRdVKhRGlm",
        "outputId": "0167e55f-4ced-4298-8ac9-fe8055675ced"
      },
      "outputs": [
        {
          "output_type": "stream",
          "name": "stdout",
          "text": [
            "10\n",
            "20\n",
            "20\n",
            "30\n",
            "10\n",
            "50\n",
            "90\n",
            "STOP\n",
            "10 - 2 times\n",
            "20 - 2 times\n",
            "30 - 1 times\n",
            "50 - 1 times\n",
            "90 - 1 times\n"
          ]
        }
      ],
      "source": [
        "#task1\n",
        "list1=[]\n",
        "l2=[]\n",
        "n=0\n",
        "while n!='STOP':\n",
        "  n=input()\n",
        "  if n=='STOP':\n",
        "   break\n",
        "  else:\n",
        "   list1.append(n)\n",
        "for i in list1:\n",
        "  count=0\n",
        "  if i not in l2:\n",
        "   for j in range(len(list1)):\n",
        "    if list1[j]==i:\n",
        "      l2.append(i)\n",
        "      count+=1\n",
        "   print(f'{i} - {count} times')"
      ]
    },
    {
      "cell_type": "code",
      "source": [
        "#task2\n",
        "l=[]\n",
        "maxs=0\n",
        "maxl=[]\n",
        "N=int(input())\n",
        "for i in range(N):\n",
        "  a=input()+' '\n",
        "  l=[]\n",
        "  v=''\n",
        "  sum=0\n",
        "  for j in a:\n",
        "   sum=0\n",
        "   if j!=' ':\n",
        "    v+=j\n",
        "   if j==' ' :\n",
        "    l.append(int(v))\n",
        "    v=''\n",
        "   for k in l:\n",
        "    sum+=k\n",
        "    if sum>maxs:\n",
        "      maxs=sum\n",
        "      maxl=l\n",
        "print(maxs)\n",
        "print(maxl)"
      ],
      "metadata": {
        "colab": {
          "base_uri": "https://localhost:8080/"
        },
        "id": "DWD0At4YdDVU",
        "outputId": "ec061f72-f5f0-4f7d-c671-b2d498edf550"
      },
      "execution_count": null,
      "outputs": [
        {
          "output_type": "stream",
          "name": "stdout",
          "text": [
            "1\n",
            "10 11 12\n",
            "33\n",
            "[10, 11, 12]\n"
          ]
        }
      ]
    },
    {
      "cell_type": "code",
      "source": [
        "#task-3\n",
        "n=input()+' '\n",
        "m=input()+' '\n",
        "l1=[]\n",
        "l2=[]\n",
        "v1=''\n",
        "v2=''\n",
        "for i in n:\n",
        "  if i!=' ':\n",
        "    v1+=i\n",
        "  else:\n",
        "    l1.append(int(v1))\n",
        "    v1=''\n",
        "for i in m:\n",
        "  if i!=' ':\n",
        "    v2+=i\n",
        "  else:\n",
        "    l2.append(int(v2))\n",
        "    v2=''\n",
        "l3=[]\n",
        "for i in l1:\n",
        "  for j in l2:\n",
        "    s=i*j\n",
        "    l3.append(s)\n",
        "print(l3)\n"
      ],
      "metadata": {
        "colab": {
          "base_uri": "https://localhost:8080/"
        },
        "id": "swG8gbcUS1S5",
        "outputId": "b551f717-dfa7-4d0a-f25b-d745f65e8131"
      },
      "execution_count": null,
      "outputs": [
        {
          "output_type": "stream",
          "name": "stdout",
          "text": [
            "2 3 6\n",
            "3 4 5\n",
            "[6, 8, 10, 9, 12, 15, 18, 24, 30]\n"
          ]
        }
      ]
    },
    {
      "cell_type": "code",
      "source": [
        "#task-4\n",
        "while True:\n",
        "  n=input()+' '\n",
        "  l=[]\n",
        "  v=''\n",
        "  if n=='STOP ':\n",
        "    break\n",
        "  else:\n",
        "    for i in n:\n",
        "      if i!=' ':\n",
        "        v+=i\n",
        "      else:\n",
        "        l.append(int(v))\n",
        "        v=''\n",
        "    s=0\n",
        "    for i in range(len(l)):\n",
        "      if i!=len(l)-1:\n",
        "        s=abs(l[i]-l[i+1])\n",
        "      if s>=len(l)+1:\n",
        "        print('Not UB Jumper')\n",
        "        break\n",
        "    if s<len(l):\n",
        "      print('UB Jumper')"
      ],
      "metadata": {
        "colab": {
          "base_uri": "https://localhost:8080/"
        },
        "id": "oq17z6PTmQng",
        "outputId": "95bae082-cacd-4865-8e38-f4ae22c22822"
      },
      "execution_count": null,
      "outputs": [
        {
          "name": "stdout",
          "output_type": "stream",
          "text": [
            "STOP\n"
          ]
        }
      ]
    },
    {
      "cell_type": "code",
      "source": [
        "#task-5\n",
        "n=input()\n",
        "l=[]\n",
        "for i in n:\n",
        "  l.append(i)\n",
        "v=''\n",
        "for i in range(len(l)):\n",
        "  for j in range(i+1,len(l)):\n",
        "    if 64<ord(l[j])<123:\n",
        "      if l[j]<l[i]:\n",
        "        l[j],l[i]=l[i],l[j]\n",
        "    elif 47<ord(l[j])<58:\n",
        "      if l[j]<l[i]:\n",
        "        l[j],l[i]=l[i],l[j]\n",
        "for i in l:\n",
        "  if 96<ord(i)<123:\n",
        "    v+=i\n",
        "for i in l:\n",
        "  if 64<ord(i)<91:\n",
        "    v+=i\n",
        "for i in l:\n",
        "  if (47<ord(i)<58):\n",
        "    if int(i)%2!=0:\n",
        "     v+=i\n",
        "for i in l:\n",
        "  if (47<ord(i)<58):\n",
        "    if int(i)%2==0:\n",
        "     v+=i\n",
        "print(v)"
      ],
      "metadata": {
        "colab": {
          "base_uri": "https://localhost:8080/"
        },
        "id": "m9OA7gYj5ea-",
        "outputId": "ea72e9b7-9214-49f1-9537-6ab427952fc9"
      },
      "execution_count": null,
      "outputs": [
        {
          "output_type": "stream",
          "name": "stdout",
          "text": [
            "b1r2Ca3u\n",
            "abruC132\n"
          ]
        }
      ]
    },
    {
      "cell_type": "code",
      "source": [
        "#task6\n",
        "n=input()+' '\n",
        "v=''\n",
        "l1=[]\n",
        "for i in n:\n",
        "  if i!=' ':\n",
        "    v+=i\n",
        "  if i==' ':\n",
        "    l1.append(int(v))\n",
        "    v=''\n",
        "m=input()+' '\n",
        "u=''\n",
        "l2=[]\n",
        "for i in m:\n",
        "  if i!=' ':\n",
        "   u+=i\n",
        "  if i==' ':\n",
        "   l2.append(int(u))\n",
        "   u=''\n",
        "l3=[]\n",
        "for i in l2:\n",
        "  s=0\n",
        "  s=i+l1[1]\n",
        "  l3.append(s)\n",
        "c=0\n",
        "for i in l3:\n",
        "  if i<=5:\n",
        "    c+=1\n",
        "print(c//3)"
      ],
      "metadata": {
        "colab": {
          "base_uri": "https://localhost:8080/"
        },
        "id": "rKvgam2bqoeN",
        "outputId": "7b2978e5-3966-4f8b-f70e-84dde841121e"
      },
      "execution_count": null,
      "outputs": [
        {
          "output_type": "stream",
          "name": "stdout",
          "text": [
            "6 5\n",
            "0 0 0 0 0 0\n",
            "2\n"
          ]
        }
      ]
    },
    {
      "cell_type": "code",
      "source": [
        "#Dictionary & Tuple\n",
        "#task-1\n",
        "n=input()+','\n",
        "l1=[] #a, 100, b, 100, c, 200, d, 300\n",
        "v=''\n",
        "for i in n:\n",
        "  if i!=',' and i!=':':\n",
        "    v+=i\n",
        "  else:\n",
        "    l1.append(v)\n",
        "    v=''\n",
        "n=input()+','\n",
        "l2=[] #a, 300, b, 200, d, 400, e, 200\n",
        "for i in n:\n",
        "  if i!=',' and i!=':':\n",
        "    v+=i\n",
        "  else:\n",
        "    l2.append(v)\n",
        "    v=''\n",
        "d1={} #{'a': 100, 'b': 100, 'c': 200, 'd': 300}\n",
        "d2={} #{'a': 300, 'b': 200, 'd': 400, 'e': 200}\n",
        "#list to dict\n",
        "for i in range(0,len(l1),2):\n",
        "  d1[l1[i]]=int(l1[i+1])\n",
        "for i in range(0,len(l2),2):\n",
        "  d2[l2[i]]=int(l2[i+1])\n",
        "dx1=d1\n",
        "dx2=d2\n",
        "l=[] #(200, 300, 400, 700)\n",
        "ls=[]  #[e,c]\n",
        "# add of key-value and find uncommon key and final dict\n",
        "for i,j in d2.items():\n",
        "  for x,y in d1.items():\n",
        "    if i==x:\n",
        "      l.append(j+y)\n",
        "      dx1[x]=j+y\n",
        "      dx2[i]=j+y\n",
        "    if (i not in d1) and (i not in ls) :\n",
        "      ls.append(i)\n",
        "      dx2[i]=j\n",
        "    if (x not in d2) and (x not in ls) :\n",
        "      ls.append(x)\n",
        "      dx1[i]=y\n",
        "# adding other valurs\n",
        "for i,j in d1.items():\n",
        "  if i in ls:\n",
        "    l.append(j)\n",
        "for x,y in d2.items():\n",
        "  if x in ls:\n",
        "    l.append(y)\n",
        "# removing the same value\n",
        "for i in range(len(l)-1):\n",
        "  if l[i]==l[i+1]:\n",
        "    l.remove(l[i])\n",
        "# arrangement of value\n",
        "for i in range(len(l)-1):\n",
        "  for j in range(i,len(l)):\n",
        "   if l[i]>l[j]:\n",
        "    l[j],l[i]=l[i],l[j]\n",
        "#final dict\n",
        "for i,j in dx2.items():\n",
        "  if dx2[i] not in dx1:\n",
        "    dx1[i]=j\n",
        "print(dx1)\n",
        "print(tuple(l))"
      ],
      "metadata": {
        "colab": {
          "base_uri": "https://localhost:8080/"
        },
        "id": "FE5DfSwdltPG",
        "outputId": "651f8eaa-d5d9-40b2-9a9a-fd48b66fbbec"
      },
      "execution_count": null,
      "outputs": [
        {
          "output_type": "stream",
          "name": "stdout",
          "text": [
            "a: 100, b: 100, c: 200, d: 300\n",
            "a: 300, b: 200, d: 400, e: 200\n",
            "{'a': 400, ' b': 300, ' c': 200, ' d': 700, ' e': 200}\n",
            "(200, 300, 400, 700)\n"
          ]
        }
      ]
    },
    {
      "cell_type": "code",
      "source": [
        "#task-2\n",
        "l1=[]\n",
        "l2=[]\n",
        "while True:\n",
        "  n=input()\n",
        "  if n=='STOP':\n",
        "   break\n",
        "  else:\n",
        "   l1.append(n)\n",
        "d1={}\n",
        "for i in range(0,len(l1)):\n",
        "  d1[i]=int(l1[i])\n",
        "for i in d1.values():\n",
        "  count=0\n",
        "  if i not in l2:\n",
        "   for j in range(len(d1)):\n",
        "    if d1[j]==i:\n",
        "      l2.append(i)\n",
        "      count+=1\n",
        "   print(f'{i} - {count} times')"
      ],
      "metadata": {
        "id": "bbzb3haon9Gb",
        "colab": {
          "base_uri": "https://localhost:8080/"
        },
        "outputId": "ccdc75b1-532f-4451-af80-a9e7f77aa25c"
      },
      "execution_count": null,
      "outputs": [
        {
          "output_type": "stream",
          "name": "stdout",
          "text": [
            "10\n",
            "20\n",
            "20\n",
            "30\n",
            "10\n",
            "50\n",
            "90\n",
            "STOP\n",
            "['10', '20', '20', '30', '10', '50', '90']\n",
            "10 - 2 times\n",
            "20 - 2 times\n",
            "30 - 1 times\n",
            "50 - 1 times\n",
            "90 - 1 times\n"
          ]
        }
      ]
    },
    {
      "cell_type": "code",
      "source": [
        "#task-3\n",
        "n=input()+','\n",
        "l1=[] #key1 : value1, key2 : value2, key3 : value1\n",
        "v=''\n",
        "d1={}\n",
        "d2={}\n",
        "for i in n:\n",
        "  if i!=',' and i!=':':\n",
        "    v+=i\n",
        "  else:\n",
        "    l1.append(v)\n",
        "    v=''\n",
        "for i in range(0,len(l1),2):\n",
        "  d1[l1[i]]=l1[i+1]\n",
        "for x,y in d1.items():\n",
        "  if y not in d2.keys():\n",
        "    #x=list(x)\n",
        "    d2[y]=list((x,))\n",
        "  elif y in d2.keys():\n",
        "    d2[y]+=list((x,))\n",
        "print(d2)"
      ],
      "metadata": {
        "colab": {
          "base_uri": "https://localhost:8080/"
        },
        "id": "Yhl2Bm4y3zlN",
        "outputId": "9fc2016f-3ed2-4256-9048-024a6153593f"
      },
      "execution_count": null,
      "outputs": [
        {
          "output_type": "stream",
          "name": "stdout",
          "text": [
            "key1 : value1, key2 : value2, key3 : value1\n",
            "{' value1': ['key1 ', ' key3 '], ' value2': [' key2 ']}\n"
          ]
        }
      ]
    },
    {
      "cell_type": "code",
      "source": [
        "#task-4\n",
        "n=input().lower()\n",
        "d={}\n",
        "for i in n:\n",
        "  if i not in d.keys():\n",
        "   d[i]=1\n",
        "  else:\n",
        "    d[i]+=1\n",
        "print(d)"
      ],
      "metadata": {
        "colab": {
          "base_uri": "https://localhost:8080/"
        },
        "id": "iXeckIQOgp3e",
        "outputId": "097db675-a777-4e08-fad1-e73bb48be1e4"
      },
      "execution_count": null,
      "outputs": [
        {
          "output_type": "stream",
          "name": "stdout",
          "text": [
            "Python programming is fun\n",
            "{'p': 2, 'y': 1, 't': 1, 'h': 1, 'o': 2, 'n': 3, ' ': 3, 'r': 2, 'g': 2, 'a': 1, 'm': 2, 'i': 2, 's': 1, 'f': 1, 'u': 1}\n"
          ]
        },
        {
          "output_type": "execute_result",
          "data": {
            "text/plain": [
              "dict"
            ]
          },
          "metadata": {},
          "execution_count": 53
        }
      ]
    },
    {
      "cell_type": "code",
      "source": [
        "#task-5\n",
        "n1=input()\n",
        "n2=input()\n",
        "d1={}\n",
        "d2={}\n",
        "for i in n1:\n",
        "  if i not in d1:\n",
        "    d1[i]=1\n",
        "  else:\n",
        "    d1[i]+=1\n",
        "for i in n2:\n",
        "  if i not in d2:\n",
        "    d2[i]=1\n",
        "  else:\n",
        "    d2[i]+=1\n",
        "if d1==d2:\n",
        " print('Those strings are anagrams.')\n",
        "else:\n",
        " print('Those strings are not anagrams.')"
      ],
      "metadata": {
        "colab": {
          "base_uri": "https://localhost:8080/"
        },
        "id": "4U7AXbZlvy4y",
        "outputId": "b562272d-bf46-4e51-c364-1cbcd25334b1"
      },
      "execution_count": null,
      "outputs": [
        {
          "output_type": "stream",
          "name": "stdout",
          "text": [
            "evil\n",
            "live\n",
            "{'e': 1, 'v': 1, 'i': 1, 'l': 1} {'l': 1, 'i': 1, 'v': 1, 'e': 1}\n",
            "Those strings are anagrams.\n"
          ]
        }
      ]
    },
    {
      "cell_type": "code",
      "source": [
        "#task-6\n",
        "n='Hello, World!'\n",
        "n=n.upper()\n",
        "d={ 1: '.,?!:',2: 'ABC',3: 'DEF',4: 'GHI',5: 'JKL',6: 'MNO',7: 'PQRS',8: 'TUV',9: 'WXYZ',0: ' ' }\n",
        "d1={}\n",
        "for ele in n:\n",
        " for i,j in d.items():\n",
        "  if ele in j :\n",
        "    for x in range(0,j.index(ele)+1):\n",
        "     print(i,end='')"
      ],
      "metadata": {
        "colab": {
          "base_uri": "https://localhost:8080/"
        },
        "id": "96iDeFpMzqZg",
        "outputId": "3328df66-8e22-4bab-9bac-45ec84364fed"
      },
      "execution_count": null,
      "outputs": [
        {
          "output_type": "stream",
          "name": "stdout",
          "text": [
            "4433555555666110966677755531111"
          ]
        }
      ]
    },
    {
      "cell_type": "code",
      "source": [
        "4433555555666110966677755531111"
      ],
      "metadata": {
        "id": "NXY9c7u-Am0w"
      },
      "execution_count": null,
      "outputs": []
    }
  ]
}