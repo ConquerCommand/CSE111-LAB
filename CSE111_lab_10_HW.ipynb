{
  "nbformat": 4,
  "nbformat_minor": 0,
  "metadata": {
    "colab": {
      "provenance": []
    },
    "kernelspec": {
      "name": "python3",
      "display_name": "Python 3"
    },
    "language_info": {
      "name": "python"
    }
  },
  "cells": [
    {
      "cell_type": "markdown",
      "source": [
        "# Masrur Sarar\n",
        "# ID: 23201003\n",
        "# Section: 23\n",
        "# CSE111\n",
        "# Homework"
      ],
      "metadata": {
        "id": "ShDk9qSxyA0M"
      }
    },
    {
      "cell_type": "code",
      "execution_count": null,
      "metadata": {
        "colab": {
          "base_uri": "https://localhost:8080/"
        },
        "id": "qYQkWWNtxDUZ",
        "outputId": "a6429f91-efa9-4c3f-c610-16723ab3b0d0"
      },
      "outputs": [
        {
          "output_type": "stream",
          "name": "stdout",
          "text": [
            "Shape name: Default \n",
            "Height: 0, Base: 0 \n",
            "Area: 0.0\n",
            "--------------------------\n",
            "Shape name: Triangle \n",
            "Height: 10, Base: 5 \n",
            "Area: 25.0\n",
            "---------------------------\n",
            "Shape name: Trapezoid \n",
            "Height: 10, Base: 6 Side_A: 4 Area: 50.0\n"
          ]
        }
      ],
      "source": [
        "#task-1\n",
        "class Shape:\n",
        "  def __init__(self, name='Default', height=0, base=0):\n",
        "    self.area = 0\n",
        "    self.name = name\n",
        "    self.height = height\n",
        "    self.base = base\n",
        "  def get_height_base(self):\n",
        "    return \"Height: \"+str(self.height)+\", Base: \"+str(self.base)\n",
        "\n",
        "class triangle(Shape):\n",
        "  def calcArea(self):\n",
        "    self.area= round(float(0.5*self.height*self.base),1)\n",
        "  def printDetail(self):\n",
        "    return f'Shape name: {self.name} \\nHeight: {self.height}, Base: {self.base} \\nArea: {self.area}'\n",
        "\n",
        "class trapezoid(Shape):\n",
        "  def __init__(self, name='Default', height=0, base=0, Side_A=0):\n",
        "    super().__init__(name, height, base)\n",
        "    self.Side_A=Side_A\n",
        "  def calcArea(self):\n",
        "    self.area= round(float(0.5*self.height*(self.base+self.Side_A)),1)\n",
        "  def printDetail(self):\n",
        "    return f'Shape name: {self.name} \\nHeight: {self.height}, Base: {self.base} Side_A: {self.Side_A} Area: {self.area}'\n",
        "\n",
        "tri_default = triangle()\n",
        "tri_default.calcArea()\n",
        "print(tri_default.printDetail())\n",
        "print('--------------------------')\n",
        "tri = triangle('Triangle', 10, 5)\n",
        "tri.calcArea()\n",
        "print(tri.printDetail())\n",
        "print('---------------------------')\n",
        "trap = trapezoid('Trapezoid', 10, 6, 4)\n",
        "trap.calcArea()\n",
        "print(trap.printDetail())"
      ]
    },
    {
      "cell_type": "code",
      "source": [
        "#task-2\n",
        "class SportsPerson:\n",
        "  def __init__(self, team_name, name, role):\n",
        "    self.__team = team_name\n",
        "    self.__name = name\n",
        "    self.role = role\n",
        "    self.earning_per_match = 0\n",
        "  def get_name_team(self):\n",
        "    return 'Name: '+self.__name+', Team Name: ' +self.__team\n",
        "\n",
        "class Player(SportsPerson):\n",
        "  def __init__(self, team_name, name, role,tg,tp):\n",
        "    super().__init__(team_name, name, role)\n",
        "    self.tg=tg\n",
        "    self.tp=tp\n",
        "    self.gr=0\n",
        "    self.me=0\n",
        "  def calculate_ratio(self):\n",
        "    self.gr=round(self.tg/self.tp,5)\n",
        "    self.me=self.tg*1000 + self.tp*10\n",
        "  def print_details(self):\n",
        "    print(self.get_name_team())\n",
        "    print(f'Team Role: {self.role}')\n",
        "    print(f'Total Goal: {self.tg}, Total Played: {self.tp}')\n",
        "    print(f'Goal Ratio: {self.gr}')\n",
        "    print(f'Match Earning: {self.me}K')\n",
        "\n",
        "class Manager(SportsPerson):\n",
        "  def __init__(self, team_name, name, role,tw):\n",
        "    super().__init__(team_name, name, role)\n",
        "    self.tw=tw\n",
        "  def print_details(self):\n",
        "    print(self.get_name_team())\n",
        "    print(f'Team Role: {self.role}')\n",
        "    print(f'Total Win: {self.tw}')\n",
        "    print(f'Match Earning: {self.tw*1000}K')\n",
        "\n",
        "player_one = Player('Al-Nassr', 'Ronaldo', 'Striker', 25, 32)\n",
        "player_one.calculate_ratio()\n",
        "player_one.print_details()\n",
        "print('------------------------------------------')\n",
        "manager_one = Manager('Real Madrid', 'Zidane', 'Manager', 25)\n",
        "manager_one.print_details()"
      ],
      "metadata": {
        "id": "EDv4DjNyJwJZ",
        "colab": {
          "base_uri": "https://localhost:8080/"
        },
        "outputId": "647e8dea-4325-4d30-e623-71c947e2d35f"
      },
      "execution_count": null,
      "outputs": [
        {
          "output_type": "stream",
          "name": "stdout",
          "text": [
            "Name: Ronaldo, Team Name: Al-Nassr\n",
            "Team Role: Striker\n",
            "Total Goal: 25, Total Played: 32\n",
            "Goal Ratio: 0.78125\n",
            "Match Earning: 25320K\n",
            "------------------------------------------\n",
            "Name: Zidane, Team Name: Real Madrid\n",
            "Team Role: Manager\n",
            "Total Win: 25\n",
            "Match Earning: 25000K\n"
          ]
        }
      ]
    },
    {
      "cell_type": "code",
      "source": [
        "#task-3\n",
        "class KK_tea():\n",
        "  ts={}\n",
        "  def __init__(self,pr,tb=50):\n",
        "    self.pr=pr\n",
        "    self.tb=tb\n",
        "    self.st=False\n",
        "    self.n='KK Regular Tea'\n",
        "  def product_detail(self):\n",
        "    print(f'Name: {self.n}, Weight: {self.tb*2}')\n",
        "    print(f'Tea Bags: {self.tb}, Price: {self.pr}')\n",
        "    print(f'Status: {self.st}')\n",
        "  @classmethod\n",
        "  def update_sold_status_regular(cal,*args):\n",
        "    for i in args:\n",
        "      i.st=True\n",
        "      if i.n not in KK_tea.ts:\n",
        "        KK_tea.ts[i.n]=1\n",
        "      else:\n",
        "        KK_tea.ts[i.n]+=1\n",
        "  @classmethod\n",
        "  def total_sales(cal):\n",
        "    print(f\"Total sales: {KK_tea.ts}\")\n",
        "\n",
        "class KK_flavoured_tea(KK_tea):\n",
        "  def __init__(self,n,pr,tb):\n",
        "    super().__init__(pr,tb)\n",
        "    self.n=f'KK {n} Tea'\n",
        "  @classmethod\n",
        "  def update_sold_status_flavoured(cal,*args):\n",
        "    super().update_sold_status_regular(*args)\n",
        "\n",
        "\n",
        "\n",
        "t1 = KK_tea(250)\n",
        "print(\"-----------------1-----------------\")\n",
        "t1.product_detail()\n",
        "print(\"-----------------2-----------------\")\n",
        "KK_tea.total_sales()\n",
        "print(\"-----------------3-----------------\")\n",
        "t2 = KK_tea(470, 100)\n",
        "t3 = KK_tea(360, 75)\n",
        "KK_tea.update_sold_status_regular(t1, t2, t3)\n",
        "print(\"-----------------4-----------------\")\n",
        "t3.product_detail()\n",
        "print(\"-----------------5-----------------\")\n",
        "KK_tea.total_sales()\n",
        "print(\"-----------------6-----------------\")\n",
        "t4 = KK_flavoured_tea(\"Jasmine\", 260, 50)\n",
        "t5 = KK_flavoured_tea(\"Honey Lemon\", 270, 45)\n",
        "t6 = KK_flavoured_tea(\"Honey Lemon\", 270, 45)\n",
        "print(\"-----------------7-----------------\")\n",
        "t4.product_detail()\n",
        "print(\"-----------------8-----------------\")\n",
        "t6.product_detail()\n",
        "print(\"-----------------9-----------------\")\n",
        "KK_flavoured_tea.update_sold_status_flavoured(t4,\n",
        "t5, t6)\n",
        "print(\"-----------------10-----------------\")\n",
        "KK_tea.total_sales()"
      ],
      "metadata": {
        "id": "BwY8fCPRJwjp",
        "colab": {
          "base_uri": "https://localhost:8080/"
        },
        "outputId": "f2b36b14-5073-4ae9-af51-6670aac01f51"
      },
      "execution_count": null,
      "outputs": [
        {
          "output_type": "stream",
          "name": "stdout",
          "text": [
            "-----------------1-----------------\n",
            "Name: KK Regular Tea, Weight: 100\n",
            "Tea Bags: 50, Price: 250\n",
            "Status: False\n",
            "-----------------2-----------------\n",
            "Total sales: {}\n",
            "-----------------3-----------------\n",
            "-----------------4-----------------\n",
            "Name: KK Regular Tea, Weight: 150\n",
            "Tea Bags: 75, Price: 360\n",
            "Status: True\n",
            "-----------------5-----------------\n",
            "Total sales: {'KK Regular Tea': 3}\n",
            "-----------------6-----------------\n",
            "-----------------7-----------------\n",
            "Name: KK Jasmine Tea, Weight: 100\n",
            "Tea Bags: 50, Price: 260\n",
            "Status: False\n",
            "-----------------8-----------------\n",
            "Name: KK Honey Lemon Tea, Weight: 90\n",
            "Tea Bags: 45, Price: 270\n",
            "Status: False\n",
            "-----------------9-----------------\n",
            "-----------------10-----------------\n",
            "Total sales: {'KK Regular Tea': 3, 'KK Jasmine Tea': 1, 'KK Honey Lemon Tea': 2}\n"
          ]
        }
      ]
    },
    {
      "cell_type": "code",
      "source": [
        "#task-4\n",
        "class TwoDVector:\n",
        "  def __init__(self, x, y):\n",
        "    self.x = x\n",
        "    self.y = y\n",
        "  def add2DVectors(self, *vectors):\n",
        "    for i in vectors:\n",
        "      self.x += i.x\n",
        "      self.y += i.y\n",
        "  def print2DVector(self):\n",
        "    if self.y >= 0:\n",
        "      y = \"+ \"+str(self.y)\n",
        "    else:\n",
        "      y = str(self.y)\n",
        "    print(f\"{self.x}i {y}j\")\n",
        "\n",
        "class ThreeDVector(TwoDVector):\n",
        "  def __init__(self,x,y,z):\n",
        "    super().__init__(x,y)\n",
        "    self.z=z\n",
        "  def add3DVectors(self,*args):\n",
        "    super().add2DVectors(*args)\n",
        "    for i in args:\n",
        "      self.z+=i.z\n",
        "  def print3DVector(self):\n",
        "    if self.y >= 0:\n",
        "      y = \"+ \"+str(self.y)\n",
        "    else:\n",
        "      y = str(self.y)\n",
        "    if self.z >= 0:\n",
        "      z = \"+ \"+str(self.z)\n",
        "    else:\n",
        "      z = str(self.z)\n",
        "    print(f\"{self.x}i {y}j {z}k\")\n",
        "  def multiplyScalar(self,n):\n",
        "    self.x*=n\n",
        "    self.y*=n\n",
        "    self.z*=n\n",
        "  def calculateLength(self):\n",
        "    return (self.x**2+self.y**2+self.z**2)**0.5\n",
        "\n",
        "\n",
        "\n",
        "TwoDV1 = TwoDVector(5, 6)\n",
        "TwoDV2 = TwoDVector(3, 7)\n",
        "TwoDV3 = TwoDVector(1, 8)\n",
        "print(\"===============\")\n",
        "TwoDV1.add2DVectors(TwoDV2, TwoDV3)\n",
        "TwoDV1.print2DVector()\n",
        "print(\"===============\")\n",
        "ThreeDV1 = ThreeDVector(5, 6, 1)\n",
        "ThreeDV2 = ThreeDVector(1, 9, -7)\n",
        "ThreeDV3 = ThreeDVector(8, 2, 4)\n",
        "print(\"===============\")\n",
        "ThreeDV1.add3DVectors(ThreeDV2,ThreeDV3)\n",
        "ThreeDV1.print3DVector()\n",
        "print(\"===============\")\n",
        "ThreeDV1.multiplyScalar(3)\n",
        "ThreeDV1.print3DVector()\n",
        "print(\"===============\")\n",
        "print(ThreeDV1.calculateLength())"
      ],
      "metadata": {
        "id": "drDd01sYJw6q",
        "colab": {
          "base_uri": "https://localhost:8080/"
        },
        "outputId": "00192d9e-17f7-4632-a8ec-4ae8d4e26d89"
      },
      "execution_count": null,
      "outputs": [
        {
          "output_type": "stream",
          "name": "stdout",
          "text": [
            "===============\n",
            "9i + 21j\n",
            "===============\n",
            "===============\n",
            "14i + 17j -2k\n",
            "===============\n",
            "42i + 51j -6k\n",
            "===============\n",
            "66.34003316248794\n"
          ]
        }
      ]
    }
  ]
}